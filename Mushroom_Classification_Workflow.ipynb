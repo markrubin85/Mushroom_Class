{
 "cells": [
  {
   "cell_type": "code",
   "execution_count": 1,
   "metadata": {},
   "outputs": [],
   "source": [
    "# import libraries\n",
    "\n",
    "import pandas as pd\n",
    "import numpy as np\n",
    "import statistics\n",
    "\n",
    "import matplotlib.pyplot as plt\n",
    "import seaborn as sns\n",
    "%matplotlib inline\n",
    "pd.set_option('display.max_columns', 100)\n",
    "\n",
    "from sklearn.preprocessing import OneHotEncoder, StandardScaler\n",
    "\n",
    "from sklearn.impute import MissingIndicator, SimpleImputer\n",
    "\n",
    "from sklearn.tree import DecisionTreeRegressor, DecisionTreeClassifier, plot_tree\n",
    "\n",
    "from sklearn.dummy import DummyClassifier\n",
    "from sklearn.linear_model import LogisticRegression\n",
    "from sklearn.ensemble import BaggingClassifier, RandomForestClassifier\n",
    "\n",
    "from sklearn.model_selection import train_test_split, cross_val_score\n",
    "from sklearn.feature_selection import SelectFromModel\n",
    "\n",
    "# plot_confusion_matrix is a handy visual tool, added in the latest version of scikit-learn\n",
    "# if you are running an older version, comment out this line and just use confusion_matrix\n",
    "from sklearn.metrics import f1_score\n",
    "from sklearn.metrics import accuracy_score\n",
    "from sklearn.metrics import precision_score\n",
    "from sklearn.metrics import recall_score\n",
    "from sklearn.metrics import plot_confusion_matrix\n",
    "from sklearn.metrics import confusion_matrix\n",
    "from sklearn.metrics import plot_roc_curve"
   ]
  },
  {
   "cell_type": "markdown",
   "metadata": {},
   "source": [
    "**Data Cleaning**"
   ]
  },
  {
   "cell_type": "code",
   "execution_count": 2,
   "metadata": {},
   "outputs": [
    {
     "data": {
      "text/plain": [
       "(8124, 23)"
      ]
     },
     "execution_count": 2,
     "metadata": {},
     "output_type": "execute_result"
    }
   ],
   "source": [
    "df = pd.read_csv('Mushroom_Class/Data/agaricus-lepiota.csv')\n",
    "df.shape"
   ]
  },
  {
   "cell_type": "code",
   "execution_count": 3,
   "metadata": {},
   "outputs": [
    {
     "data": {
      "text/html": [
       "<div>\n",
       "<style scoped>\n",
       "    .dataframe tbody tr th:only-of-type {\n",
       "        vertical-align: middle;\n",
       "    }\n",
       "\n",
       "    .dataframe tbody tr th {\n",
       "        vertical-align: top;\n",
       "    }\n",
       "\n",
       "    .dataframe thead th {\n",
       "        text-align: right;\n",
       "    }\n",
       "</style>\n",
       "<table border=\"1\" class=\"dataframe\">\n",
       "  <thead>\n",
       "    <tr style=\"text-align: right;\">\n",
       "      <th></th>\n",
       "      <th>Y</th>\n",
       "      <th>cap-shape</th>\n",
       "      <th>cap-surface</th>\n",
       "      <th>cap-color</th>\n",
       "      <th>bruises</th>\n",
       "      <th>odor</th>\n",
       "      <th>gill-attachment</th>\n",
       "      <th>gill-spacing</th>\n",
       "      <th>gill-size</th>\n",
       "      <th>gill-color</th>\n",
       "      <th>stalk-shape</th>\n",
       "      <th>stalk-root</th>\n",
       "      <th>stalk-surface-above-ring</th>\n",
       "      <th>stalk-surface-below-ring</th>\n",
       "      <th>stalk-color-above-ring</th>\n",
       "      <th>stalk-color-below-ring</th>\n",
       "      <th>veil-type</th>\n",
       "      <th>veil-color</th>\n",
       "      <th>ring-number</th>\n",
       "      <th>ring-type</th>\n",
       "      <th>spore-print-color</th>\n",
       "      <th>population</th>\n",
       "      <th>habitat</th>\n",
       "    </tr>\n",
       "  </thead>\n",
       "  <tbody>\n",
       "    <tr>\n",
       "      <th>0</th>\n",
       "      <td>p</td>\n",
       "      <td>x</td>\n",
       "      <td>s</td>\n",
       "      <td>n</td>\n",
       "      <td>t</td>\n",
       "      <td>p</td>\n",
       "      <td>f</td>\n",
       "      <td>c</td>\n",
       "      <td>n</td>\n",
       "      <td>k</td>\n",
       "      <td>e</td>\n",
       "      <td>e</td>\n",
       "      <td>s</td>\n",
       "      <td>s</td>\n",
       "      <td>w</td>\n",
       "      <td>w</td>\n",
       "      <td>p</td>\n",
       "      <td>w</td>\n",
       "      <td>o</td>\n",
       "      <td>p</td>\n",
       "      <td>k</td>\n",
       "      <td>s</td>\n",
       "      <td>u</td>\n",
       "    </tr>\n",
       "    <tr>\n",
       "      <th>1</th>\n",
       "      <td>e</td>\n",
       "      <td>x</td>\n",
       "      <td>s</td>\n",
       "      <td>y</td>\n",
       "      <td>t</td>\n",
       "      <td>a</td>\n",
       "      <td>f</td>\n",
       "      <td>c</td>\n",
       "      <td>b</td>\n",
       "      <td>k</td>\n",
       "      <td>e</td>\n",
       "      <td>c</td>\n",
       "      <td>s</td>\n",
       "      <td>s</td>\n",
       "      <td>w</td>\n",
       "      <td>w</td>\n",
       "      <td>p</td>\n",
       "      <td>w</td>\n",
       "      <td>o</td>\n",
       "      <td>p</td>\n",
       "      <td>n</td>\n",
       "      <td>n</td>\n",
       "      <td>g</td>\n",
       "    </tr>\n",
       "    <tr>\n",
       "      <th>2</th>\n",
       "      <td>e</td>\n",
       "      <td>b</td>\n",
       "      <td>s</td>\n",
       "      <td>w</td>\n",
       "      <td>t</td>\n",
       "      <td>l</td>\n",
       "      <td>f</td>\n",
       "      <td>c</td>\n",
       "      <td>b</td>\n",
       "      <td>n</td>\n",
       "      <td>e</td>\n",
       "      <td>c</td>\n",
       "      <td>s</td>\n",
       "      <td>s</td>\n",
       "      <td>w</td>\n",
       "      <td>w</td>\n",
       "      <td>p</td>\n",
       "      <td>w</td>\n",
       "      <td>o</td>\n",
       "      <td>p</td>\n",
       "      <td>n</td>\n",
       "      <td>n</td>\n",
       "      <td>m</td>\n",
       "    </tr>\n",
       "    <tr>\n",
       "      <th>3</th>\n",
       "      <td>p</td>\n",
       "      <td>x</td>\n",
       "      <td>y</td>\n",
       "      <td>w</td>\n",
       "      <td>t</td>\n",
       "      <td>p</td>\n",
       "      <td>f</td>\n",
       "      <td>c</td>\n",
       "      <td>n</td>\n",
       "      <td>n</td>\n",
       "      <td>e</td>\n",
       "      <td>e</td>\n",
       "      <td>s</td>\n",
       "      <td>s</td>\n",
       "      <td>w</td>\n",
       "      <td>w</td>\n",
       "      <td>p</td>\n",
       "      <td>w</td>\n",
       "      <td>o</td>\n",
       "      <td>p</td>\n",
       "      <td>k</td>\n",
       "      <td>s</td>\n",
       "      <td>u</td>\n",
       "    </tr>\n",
       "    <tr>\n",
       "      <th>4</th>\n",
       "      <td>e</td>\n",
       "      <td>x</td>\n",
       "      <td>s</td>\n",
       "      <td>g</td>\n",
       "      <td>f</td>\n",
       "      <td>n</td>\n",
       "      <td>f</td>\n",
       "      <td>w</td>\n",
       "      <td>b</td>\n",
       "      <td>k</td>\n",
       "      <td>t</td>\n",
       "      <td>e</td>\n",
       "      <td>s</td>\n",
       "      <td>s</td>\n",
       "      <td>w</td>\n",
       "      <td>w</td>\n",
       "      <td>p</td>\n",
       "      <td>w</td>\n",
       "      <td>o</td>\n",
       "      <td>e</td>\n",
       "      <td>n</td>\n",
       "      <td>a</td>\n",
       "      <td>g</td>\n",
       "    </tr>\n",
       "  </tbody>\n",
       "</table>\n",
       "</div>"
      ],
      "text/plain": [
       "   Y cap-shape cap-surface cap-color bruises odor gill-attachment  \\\n",
       "0  p         x           s         n       t    p               f   \n",
       "1  e         x           s         y       t    a               f   \n",
       "2  e         b           s         w       t    l               f   \n",
       "3  p         x           y         w       t    p               f   \n",
       "4  e         x           s         g       f    n               f   \n",
       "\n",
       "  gill-spacing gill-size gill-color stalk-shape stalk-root  \\\n",
       "0            c         n          k           e          e   \n",
       "1            c         b          k           e          c   \n",
       "2            c         b          n           e          c   \n",
       "3            c         n          n           e          e   \n",
       "4            w         b          k           t          e   \n",
       "\n",
       "  stalk-surface-above-ring stalk-surface-below-ring stalk-color-above-ring  \\\n",
       "0                        s                        s                      w   \n",
       "1                        s                        s                      w   \n",
       "2                        s                        s                      w   \n",
       "3                        s                        s                      w   \n",
       "4                        s                        s                      w   \n",
       "\n",
       "  stalk-color-below-ring veil-type veil-color ring-number ring-type  \\\n",
       "0                      w         p          w           o         p   \n",
       "1                      w         p          w           o         p   \n",
       "2                      w         p          w           o         p   \n",
       "3                      w         p          w           o         p   \n",
       "4                      w         p          w           o         e   \n",
       "\n",
       "  spore-print-color population habitat  \n",
       "0                 k          s       u  \n",
       "1                 n          n       g  \n",
       "2                 n          n       m  \n",
       "3                 k          s       u  \n",
       "4                 n          a       g  "
      ]
     },
     "execution_count": 3,
     "metadata": {},
     "output_type": "execute_result"
    }
   ],
   "source": [
    "df.head()"
   ]
  },
  {
   "cell_type": "code",
   "execution_count": 4,
   "metadata": {},
   "outputs": [
    {
     "data": {
      "text/plain": [
       "e    4208\n",
       "p    3916\n",
       "Name: Y, dtype: int64"
      ]
     },
     "execution_count": 4,
     "metadata": {},
     "output_type": "execute_result"
    }
   ],
   "source": [
    "df.Y.value_counts()"
   ]
  },
  {
   "cell_type": "code",
   "execution_count": 5,
   "metadata": {},
   "outputs": [
    {
     "data": {
      "text/plain": [
       "Index(['Y', 'cap-shape', 'cap-surface', 'cap-color', 'bruises', 'odor',\n",
       "       'gill-attachment', 'gill-spacing', 'gill-size', 'gill-color',\n",
       "       'stalk-shape', 'stalk-root', 'stalk-surface-above-ring',\n",
       "       'stalk-surface-below-ring', 'stalk-color-above-ring',\n",
       "       'stalk-color-below-ring', 'veil-type', 'veil-color', 'ring-number',\n",
       "       'ring-type', 'spore-print-color', 'population', 'habitat'],\n",
       "      dtype='object')"
      ]
     },
     "execution_count": 5,
     "metadata": {},
     "output_type": "execute_result"
    }
   ],
   "source": [
    "df.columns"
   ]
  },
  {
   "cell_type": "markdown",
   "metadata": {},
   "source": [
    "***Replacing The Letter Attributes in Each Feature With Their Unnabreviated Terms To Help Clarify The Dataset.***"
   ]
  },
  {
   "cell_type": "code",
   "execution_count": 6,
   "metadata": {},
   "outputs": [],
   "source": [
    "df['Y'] = df['Y'].replace(['p','e'],['1','0'])\n",
    "df['cap-shape'] = df['cap-shape'].replace(['b','c','x','f','k','s'],['bell','conical','convex','flat','knobbed','sunken'])\n",
    "\n",
    "df['cap-surface'] = df['cap-surface'].replace(['f','g','y','s'],['fibrous','grooves','scaly','smooth'])\n",
    "\n",
    "df['cap-color'] = df['cap-color'].replace(['n','b','c','g','r','p','u','e','w','y'],['brown','buff','cinnamon','gray','green','pink','purple','red','white','yellow'])\n",
    "\n",
    "df['bruises'] = df['bruises'].replace(['t','f'],['True','False'])\n",
    "\n",
    "df['odor']= df['odor'].replace(['a','l','c','y','f','m','n','p','s'],['almond','anise','creosote','fishy','foul','musty','none','pungent','spicy'])\n",
    "\n",
    "df['gill-attachment'] = df['gill-attachment'].replace(['a','d','f','n'],['attached','descending','free','notched'])\n",
    "\n",
    "df['gill-spacing'] = df['gill-spacing'].replace(['c','w','d'],['close','crowded','distant'])\n",
    "\n",
    "df['gill-size'] = df['gill-size'].replace(['b','n'],['broad','narrow'])\n",
    "\n",
    "df['gill-color'] = df['gill-color'].replace(['k','n','b','h','g','r','o','p','u','e','w','y'],['black','brown','buff','chocolate','gray','green','orange','pink','purple','red','white','yellow'])\n",
    "\n",
    "df['stalk-shape'] = df['stalk-shape'].replace(['e','t'],['enlarging','tapering'])\n",
    "\n",
    "df['stalk-root'] = df['stalk-root'].replace(['b','c','u','e','z','r','?'],['bulbous','club','cup','equal','rhizomorphs','rooted',np.nan])\n",
    "\n",
    "df['stalk-surface-above-ring'] = df['stalk-surface-above-ring'].replace(['f','y','k','s'],['fibrous','scaly','silky','smooth'])\n",
    "\n",
    "df['stalk-surface-below-ring'] = df['stalk-surface-below-ring'].replace(['f','y','k','s'],['fibrous','scaly','silky','smooth'])\n",
    "\n",
    "df['stalk-color-above-ring'] = df['stalk-color-above-ring'].replace(['n','b','c','g','o','p','e','w','y'],['brown','buff','cinnamon','gray','orange','pink','red','white','yellow'])\n",
    "\n",
    "df['stalk-color-below-ring'] = df['stalk-color-below-ring'].replace(['n','b','c','g','o','p','e','w','y'],['brown','buff','cinnamon','gray','orange','pink','red','white','yellow'])\n",
    "\n",
    "df['veil-type'] = df['veil-type'].replace(['p','u'],['partial','universal'])\n",
    "\n",
    "df['veil-color'] = df['veil-color'].replace(['n','o','w','y'],['brown','orange','white','yellow'])\n",
    "\n",
    "df['ring-number'] = df['ring-number'].replace(['n','o','t'],['none','one','two'])\n",
    "\n",
    "df['ring-type'] = df['ring-type'].replace(['c','e','f','l','n','p','s','z'],['cobwebby','evanescent','flaring','large','none','pendant','sheathings','zone'])\n",
    "\n",
    "df['spore-print-color'] = df['spore-print-color'].replace(['k','n','b','h','r','o','u','w','y'],['black','brown','buff','chocolate','green','orange','purple','white','yellow'])\n",
    "\n",
    "df['population'] = df['population'].replace(['a','c','n','s','v','y'],['abundant','clustered','numerous','scattered','several','solitary'])\n",
    "\n",
    "df['habitat'] = df['habitat'].replace(['g','l','m','p','u','w','d'],['grasses','leaves','meadows','paths','urban','waste','woods'])"
   ]
  },
  {
   "cell_type": "markdown",
   "metadata": {},
   "source": [
    "**Checking Dataframe for Null-Values**"
   ]
  },
  {
   "cell_type": "code",
   "execution_count": 7,
   "metadata": {},
   "outputs": [
    {
     "data": {
      "text/plain": [
       "(8124, 23)"
      ]
     },
     "execution_count": 7,
     "metadata": {},
     "output_type": "execute_result"
    }
   ],
   "source": [
    "df.shape"
   ]
  },
  {
   "cell_type": "code",
   "execution_count": 8,
   "metadata": {
    "scrolled": true
   },
   "outputs": [
    {
     "data": {
      "text/plain": [
       "Y                              0\n",
       "cap-shape                      0\n",
       "cap-surface                    0\n",
       "cap-color                      0\n",
       "bruises                        0\n",
       "odor                           0\n",
       "gill-attachment                0\n",
       "gill-spacing                   0\n",
       "gill-size                      0\n",
       "gill-color                     0\n",
       "stalk-shape                    0\n",
       "stalk-root                  2480\n",
       "stalk-surface-above-ring       0\n",
       "stalk-surface-below-ring       0\n",
       "stalk-color-above-ring         0\n",
       "stalk-color-below-ring         0\n",
       "veil-type                      0\n",
       "veil-color                     0\n",
       "ring-number                    0\n",
       "ring-type                      0\n",
       "spore-print-color              0\n",
       "population                     0\n",
       "habitat                        0\n",
       "dtype: int64"
      ]
     },
     "execution_count": 8,
     "metadata": {},
     "output_type": "execute_result"
    }
   ],
   "source": [
    "df.isnull().sum()"
   ]
  },
  {
   "cell_type": "code",
   "execution_count": 9,
   "metadata": {},
   "outputs": [],
   "source": [
    "#Stalk-Root Is The Only Feature Containing Missing Values. It Contains 2480 Missing Entries Which Equates To Roughly 30% Of The Data."
   ]
  },
  {
   "cell_type": "markdown",
   "metadata": {},
   "source": [
    "**Creating A New Column Called 'Stalk-Root-Missing' With Values That Are Equal To Either 0 Or 1. This Is Being Done To Indiciate Which Rows In The Stalk-Root Feature Contain Missing Data. ( 0 = Contains Data, 1 = Missing Data )**"
   ]
  },
  {
   "cell_type": "code",
   "execution_count": 10,
   "metadata": {},
   "outputs": [],
   "source": [
    "df['stalk-root-missing'] = df['stalk-root'].replace(['bulbous','club','cup','equal','rhizomorphs','rooted',np.nan],[0, 0, 0, 0, 0, 0, 1])"
   ]
  },
  {
   "cell_type": "markdown",
   "metadata": {},
   "source": [
    "**Imputing The Mode (Respectively) For All Missing Values In The Stalk-Root Feature**"
   ]
  },
  {
   "cell_type": "code",
   "execution_count": 11,
   "metadata": {},
   "outputs": [
    {
     "data": {
      "text/plain": [
       "0    bulbous\n",
       "dtype: object"
      ]
     },
     "execution_count": 11,
     "metadata": {},
     "output_type": "execute_result"
    }
   ],
   "source": [
    "df['stalk-root'].mode()"
   ]
  },
  {
   "cell_type": "code",
   "execution_count": 12,
   "metadata": {},
   "outputs": [
    {
     "data": {
      "text/plain": [
       "bulbous    3776\n",
       "equal      1120\n",
       "club        556\n",
       "rooted      192\n",
       "Name: stalk-root, dtype: int64"
      ]
     },
     "execution_count": 12,
     "metadata": {},
     "output_type": "execute_result"
    }
   ],
   "source": [
    "#Checking Stalk-Root Value Counts Before Null-Values are Replaced With The Mode.\n",
    "df['stalk-root'].value_counts()"
   ]
  },
  {
   "cell_type": "code",
   "execution_count": 13,
   "metadata": {},
   "outputs": [],
   "source": [
    "df['stalk-root'] = df['stalk-root'].transform( lambda x: x.fillna(x.mode()[0]))"
   ]
  },
  {
   "cell_type": "code",
   "execution_count": 14,
   "metadata": {},
   "outputs": [
    {
     "data": {
      "text/plain": [
       "bulbous    6256\n",
       "equal      1120\n",
       "club        556\n",
       "rooted      192\n",
       "Name: stalk-root, dtype: int64"
      ]
     },
     "execution_count": 14,
     "metadata": {},
     "output_type": "execute_result"
    }
   ],
   "source": [
    "#Re-Checking Stalk-Root Value Counts After Replacing Null Values With The Mode.\n",
    "df['stalk-root'].value_counts()"
   ]
  },
  {
   "cell_type": "markdown",
   "metadata": {},
   "source": [
    "**Re-Checking Dataframe for Null-Values**"
   ]
  },
  {
   "cell_type": "code",
   "execution_count": 15,
   "metadata": {
    "scrolled": true
   },
   "outputs": [
    {
     "data": {
      "text/plain": [
       "Y                           0\n",
       "cap-shape                   0\n",
       "cap-surface                 0\n",
       "cap-color                   0\n",
       "bruises                     0\n",
       "odor                        0\n",
       "gill-attachment             0\n",
       "gill-spacing                0\n",
       "gill-size                   0\n",
       "gill-color                  0\n",
       "stalk-shape                 0\n",
       "stalk-root                  0\n",
       "stalk-surface-above-ring    0\n",
       "stalk-surface-below-ring    0\n",
       "stalk-color-above-ring      0\n",
       "stalk-color-below-ring      0\n",
       "veil-type                   0\n",
       "veil-color                  0\n",
       "ring-number                 0\n",
       "ring-type                   0\n",
       "spore-print-color           0\n",
       "population                  0\n",
       "habitat                     0\n",
       "stalk-root-missing          0\n",
       "dtype: int64"
      ]
     },
     "execution_count": 15,
     "metadata": {},
     "output_type": "execute_result"
    }
   ],
   "source": [
    "df.isnull().sum()"
   ]
  },
  {
   "cell_type": "markdown",
   "metadata": {},
   "source": [
    "***EDA***"
   ]
  },
  {
   "cell_type": "code",
   "execution_count": 16,
   "metadata": {},
   "outputs": [],
   "source": [
    "df.head()\n",
    "X = df.drop('Y', axis=1)\n",
    "y = df['Y']"
   ]
  },
  {
   "cell_type": "code",
   "execution_count": 17,
   "metadata": {},
   "outputs": [
    {
     "data": {
      "text/html": [
       "<div>\n",
       "<style scoped>\n",
       "    .dataframe tbody tr th:only-of-type {\n",
       "        vertical-align: middle;\n",
       "    }\n",
       "\n",
       "    .dataframe tbody tr th {\n",
       "        vertical-align: top;\n",
       "    }\n",
       "\n",
       "    .dataframe thead th {\n",
       "        text-align: right;\n",
       "    }\n",
       "</style>\n",
       "<table border=\"1\" class=\"dataframe\">\n",
       "  <thead>\n",
       "    <tr style=\"text-align: right;\">\n",
       "      <th></th>\n",
       "      <th>stalk-root-missing</th>\n",
       "    </tr>\n",
       "  </thead>\n",
       "  <tbody>\n",
       "    <tr>\n",
       "      <th>count</th>\n",
       "      <td>8124.000000</td>\n",
       "    </tr>\n",
       "    <tr>\n",
       "      <th>mean</th>\n",
       "      <td>0.305268</td>\n",
       "    </tr>\n",
       "    <tr>\n",
       "      <th>std</th>\n",
       "      <td>0.460549</td>\n",
       "    </tr>\n",
       "    <tr>\n",
       "      <th>min</th>\n",
       "      <td>0.000000</td>\n",
       "    </tr>\n",
       "    <tr>\n",
       "      <th>25%</th>\n",
       "      <td>0.000000</td>\n",
       "    </tr>\n",
       "    <tr>\n",
       "      <th>50%</th>\n",
       "      <td>0.000000</td>\n",
       "    </tr>\n",
       "    <tr>\n",
       "      <th>75%</th>\n",
       "      <td>1.000000</td>\n",
       "    </tr>\n",
       "    <tr>\n",
       "      <th>max</th>\n",
       "      <td>1.000000</td>\n",
       "    </tr>\n",
       "  </tbody>\n",
       "</table>\n",
       "</div>"
      ],
      "text/plain": [
       "       stalk-root-missing\n",
       "count         8124.000000\n",
       "mean             0.305268\n",
       "std              0.460549\n",
       "min              0.000000\n",
       "25%              0.000000\n",
       "50%              0.000000\n",
       "75%              1.000000\n",
       "max              1.000000"
      ]
     },
     "execution_count": 17,
     "metadata": {},
     "output_type": "execute_result"
    }
   ],
   "source": [
    "df.describe()"
   ]
  },
  {
   "cell_type": "code",
   "execution_count": 18,
   "metadata": {
    "scrolled": true
   },
   "outputs": [
    {
     "data": {
      "text/plain": [
       "Y                           object\n",
       "cap-shape                   object\n",
       "cap-surface                 object\n",
       "cap-color                   object\n",
       "bruises                     object\n",
       "odor                        object\n",
       "gill-attachment             object\n",
       "gill-spacing                object\n",
       "gill-size                   object\n",
       "gill-color                  object\n",
       "stalk-shape                 object\n",
       "stalk-root                  object\n",
       "stalk-surface-above-ring    object\n",
       "stalk-surface-below-ring    object\n",
       "stalk-color-above-ring      object\n",
       "stalk-color-below-ring      object\n",
       "veil-type                   object\n",
       "veil-color                  object\n",
       "ring-number                 object\n",
       "ring-type                   object\n",
       "spore-print-color           object\n",
       "population                  object\n",
       "habitat                     object\n",
       "stalk-root-missing           int64\n",
       "dtype: object"
      ]
     },
     "execution_count": 18,
     "metadata": {},
     "output_type": "execute_result"
    }
   ],
   "source": [
    "df.dtypes"
   ]
  },
  {
   "cell_type": "markdown",
   "metadata": {},
   "source": [
    "***Cap Shape***"
   ]
  },
  {
   "cell_type": "code",
   "execution_count": 19,
   "metadata": {
    "scrolled": true
   },
   "outputs": [
    {
     "data": {
      "text/plain": [
       "Y  cap-shape\n",
       "0  convex       1948\n",
       "   flat         1596\n",
       "   bell          404\n",
       "   knobbed       228\n",
       "   sunken         32\n",
       "1  convex       1708\n",
       "   flat         1556\n",
       "   knobbed       600\n",
       "   bell           48\n",
       "   conical         4\n",
       "Name: cap-shape, dtype: int64"
      ]
     },
     "execution_count": 19,
     "metadata": {},
     "output_type": "execute_result"
    }
   ],
   "source": [
    "df.groupby('Y')['cap-shape'].value_counts()"
   ]
  },
  {
   "cell_type": "code",
   "execution_count": 20,
   "metadata": {},
   "outputs": [
    {
     "data": {
      "text/plain": [
       "convex     3656\n",
       "flat       3152\n",
       "knobbed     828\n",
       "bell        452\n",
       "sunken       32\n",
       "conical       4\n",
       "Name: cap-shape, dtype: int64"
      ]
     },
     "execution_count": 20,
     "metadata": {},
     "output_type": "execute_result"
    }
   ],
   "source": [
    "X['cap-shape'].value_counts()"
   ]
  },
  {
   "cell_type": "code",
   "execution_count": 21,
   "metadata": {},
   "outputs": [],
   "source": [
    "p_cap_shape_percentages= {   \n",
    "                        'Convex': ((1708/3656)*100),\n",
    "                        'Flat': ((1556/3152)*100),\n",
    "                        'Knobbed': ((600/828)*100),\n",
    "                        'Bell': ((48/452)*100),\n",
    "                        'Sunken': ((0/32)*100),\n",
    "                        'Conical': ((4/4)*100)\n",
    "                    }\n",
    "df_p_cap_shape_percentages = pd.DataFrame(p_cap_shape_percentages, index=[1])"
   ]
  },
  {
   "cell_type": "code",
   "execution_count": 22,
   "metadata": {},
   "outputs": [
    {
     "data": {
      "text/html": [
       "<div>\n",
       "<style scoped>\n",
       "    .dataframe tbody tr th:only-of-type {\n",
       "        vertical-align: middle;\n",
       "    }\n",
       "\n",
       "    .dataframe tbody tr th {\n",
       "        vertical-align: top;\n",
       "    }\n",
       "\n",
       "    .dataframe thead th {\n",
       "        text-align: right;\n",
       "    }\n",
       "</style>\n",
       "<table border=\"1\" class=\"dataframe\">\n",
       "  <thead>\n",
       "    <tr style=\"text-align: right;\">\n",
       "      <th></th>\n",
       "      <th>Convex</th>\n",
       "      <th>Flat</th>\n",
       "      <th>Knobbed</th>\n",
       "      <th>Bell</th>\n",
       "      <th>Sunken</th>\n",
       "      <th>Conical</th>\n",
       "    </tr>\n",
       "  </thead>\n",
       "  <tbody>\n",
       "    <tr>\n",
       "      <th>1</th>\n",
       "      <td>46.717724</td>\n",
       "      <td>49.365482</td>\n",
       "      <td>72.463768</td>\n",
       "      <td>10.619469</td>\n",
       "      <td>0.0</td>\n",
       "      <td>100.0</td>\n",
       "    </tr>\n",
       "  </tbody>\n",
       "</table>\n",
       "</div>"
      ],
      "text/plain": [
       "      Convex       Flat    Knobbed       Bell  Sunken  Conical\n",
       "1  46.717724  49.365482  72.463768  10.619469     0.0    100.0"
      ]
     },
     "execution_count": 22,
     "metadata": {},
     "output_type": "execute_result"
    }
   ],
   "source": [
    "df_p_cap_shape_percentages"
   ]
  },
  {
   "cell_type": "code",
   "execution_count": 23,
   "metadata": {},
   "outputs": [
    {
     "data": {
      "image/png": "[encoded data removed]",
      "text/plain": [
       "<Figure size 432x288 with 1 Axes>"
      ]
     },
     "metadata": {
      "needs_background": "light"
     },
     "output_type": "display_data"
    }
   ],
   "source": [
    "ax = df_p_cap_shape_percentages.plot.bar()\n",
    "ax.set_title('Relative Frequencies of Poisonious Cap Shapes')\n",
    "ax.set_xlabel('Cap Shapes')\n",
    "\n",
    "plt.tight_layout()\n",
    "plt.show()"
   ]
  },
  {
   "cell_type": "code",
   "execution_count": 24,
   "metadata": {},
   "outputs": [],
   "source": [
    "#Conical Mushrooms Are All Poisonous (Only 4 Conical Mushrooms in DataSet So May Not Be A Good Indicator)\n",
    "#Sunken Mushrooms Are All Non-Poisonous (Only 32 Sunken Mushrooms in DataSet So May Not Be A Good Indicator)\n",
    "#Approximately 72% of Knobbed Cap-Shaped Mushrooms are Poisonous (May Be a Good Indicator)"
   ]
  },
  {
   "cell_type": "code",
   "execution_count": 25,
   "metadata": {},
   "outputs": [
    {
     "data": {
      "image/png": "[encoded data removed]",
      "text/plain": [
       "<Figure size 432x288 with 1 Axes>"
      ]
     },
     "metadata": {
      "needs_background": "light"
     },
     "output_type": "display_data"
    }
   ],
   "source": [
    "ax= df.groupby('Y')['cap-shape'].value_counts().plot.bar()\n",
    "ax.set_title('Value_Counts_Of_Cap_Shape_By_Target')\n",
    "ax.set_xlabel('Class')\n",
    "ax.set_ylabel('Cap-Shape')\n",
    "\n",
    "plt.tight_layout()\n",
    "plt.savefig('Mushroom_Class/Data-Visualizations/Value_Counts_Of_Cap_Shape_By_Target.png')\n",
    "plt.show()"
   ]
  },
  {
   "cell_type": "markdown",
   "metadata": {},
   "source": [
    "***Cap Surface***"
   ]
  },
  {
   "cell_type": "code",
   "execution_count": 26,
   "metadata": {},
   "outputs": [
    {
     "data": {
      "text/plain": [
       "Y  cap-surface\n",
       "0  fibrous        1560\n",
       "   scaly          1504\n",
       "   smooth         1144\n",
       "1  scaly          1740\n",
       "   smooth         1412\n",
       "   fibrous         760\n",
       "   grooves           4\n",
       "Name: cap-surface, dtype: int64"
      ]
     },
     "execution_count": 26,
     "metadata": {},
     "output_type": "execute_result"
    }
   ],
   "source": [
    "df.groupby('Y')['cap-surface'].value_counts()"
   ]
  },
  {
   "cell_type": "code",
   "execution_count": 27,
   "metadata": {},
   "outputs": [
    {
     "data": {
      "text/plain": [
       "scaly      3244\n",
       "smooth     2556\n",
       "fibrous    2320\n",
       "grooves       4\n",
       "Name: cap-surface, dtype: int64"
      ]
     },
     "execution_count": 27,
     "metadata": {},
     "output_type": "execute_result"
    }
   ],
   "source": [
    "X['cap-surface'].value_counts()"
   ]
  },
  {
   "cell_type": "code",
   "execution_count": 28,
   "metadata": {},
   "outputs": [
    {
     "data": {
      "text/html": [
       "<div>\n",
       "<style scoped>\n",
       "    .dataframe tbody tr th:only-of-type {\n",
       "        vertical-align: middle;\n",
       "    }\n",
       "\n",
       "    .dataframe tbody tr th {\n",
       "        vertical-align: top;\n",
       "    }\n",
       "\n",
       "    .dataframe thead th {\n",
       "        text-align: right;\n",
       "    }\n",
       "</style>\n",
       "<table border=\"1\" class=\"dataframe\">\n",
       "  <thead>\n",
       "    <tr style=\"text-align: right;\">\n",
       "      <th></th>\n",
       "      <th>Scaly</th>\n",
       "      <th>Smooth</th>\n",
       "      <th>Fibrous</th>\n",
       "      <th>Grooves</th>\n",
       "    </tr>\n",
       "  </thead>\n",
       "  <tbody>\n",
       "    <tr>\n",
       "      <th>1</th>\n",
       "      <td>53.637485</td>\n",
       "      <td>55.242567</td>\n",
       "      <td>32.758621</td>\n",
       "      <td>100.0</td>\n",
       "    </tr>\n",
       "  </tbody>\n",
       "</table>\n",
       "</div>"
      ],
      "text/plain": [
       "       Scaly     Smooth    Fibrous  Grooves\n",
       "1  53.637485  55.242567  32.758621    100.0"
      ]
     },
     "execution_count": 28,
     "metadata": {},
     "output_type": "execute_result"
    }
   ],
   "source": [
    "p_cap_surface_percentages= {   \n",
    "                        'Scaly': ((1740/3244)*100),\n",
    "                        'Smooth': ((1412/2556)*100),\n",
    "                        'Fibrous': ((760/2320)*100),\n",
    "                        'Grooves': ((4/4)*100),\n",
    "                    }\n",
    "df_p_cap_surface_percentages = pd.DataFrame(p_cap_surface_percentages, index=[1])\n",
    "df_p_cap_surface_percentages "
   ]
  },
  {
   "cell_type": "code",
   "execution_count": 29,
   "metadata": {},
   "outputs": [
    {
     "data": {
      "image/png": "[encoded data removed]",
      "text/plain": [
       "<Figure size 432x288 with 1 Axes>"
      ]
     },
     "metadata": {
      "needs_background": "light"
     },
     "output_type": "display_data"
    }
   ],
   "source": [
    "ax = df_p_cap_surface_percentages.plot.bar()\n",
    "ax.set_title('Relative Frequencies of Poisonious Cap Surfaces')\n",
    "ax.set_xlabel('Cap Surface Type')\n",
    "\n",
    "plt.tight_layout()\n",
    "plt.savefig('Mushroom_Class/Data-Visualizations/Relative_Frequencies_of_Poisonious_Cap_Surfaces.png')\n",
    "plt.show()"
   ]
  },
  {
   "cell_type": "code",
   "execution_count": 30,
   "metadata": {},
   "outputs": [
    {
     "data": {
      "image/png": "[encoded data removed]",
      "text/plain": [
       "<Figure size 432x288 with 1 Axes>"
      ]
     },
     "metadata": {
      "needs_background": "light"
     },
     "output_type": "display_data"
    }
   ],
   "source": [
    "ax= df.groupby('Y')['cap-surface'].value_counts().plot.bar()\n",
    "ax.set_title('Value_Counts_Of_Cap_Surface_By_Target')\n",
    "ax.set_xlabel('Class')\n",
    "ax.set_ylabel('Cap-Surface')\n",
    "\n",
    "plt.tight_layout()\n",
    "plt.savefig('Mushroom_Class/Data-Visualizations/Value_Counts_Of_Cap_Surface_By_Target.png')\n",
    "plt.show()"
   ]
  },
  {
   "cell_type": "markdown",
   "metadata": {},
   "source": [
    "***Cap Color***"
   ]
  },
  {
   "cell_type": "code",
   "execution_count": 31,
   "metadata": {},
   "outputs": [
    {
     "data": {
      "text/plain": [
       "Y  cap-color\n",
       "0  brown        1264\n",
       "   gray         1032\n",
       "   white         720\n",
       "   red           624\n",
       "   yellow        400\n",
       "   pink           56\n",
       "   buff           48\n",
       "   cinnamon       32\n",
       "   green          16\n",
       "   purple         16\n",
       "1  brown        1020\n",
       "   red           876\n",
       "   gray          808\n",
       "   yellow        672\n",
       "   white         320\n",
       "   buff          120\n",
       "   pink           88\n",
       "   cinnamon       12\n",
       "Name: cap-color, dtype: int64"
      ]
     },
     "execution_count": 31,
     "metadata": {},
     "output_type": "execute_result"
    }
   ],
   "source": [
    "df.groupby('Y')['cap-color'].value_counts()"
   ]
  },
  {
   "cell_type": "code",
   "execution_count": 32,
   "metadata": {},
   "outputs": [
    {
     "data": {
      "text/plain": [
       "brown       2284\n",
       "gray        1840\n",
       "red         1500\n",
       "yellow      1072\n",
       "white       1040\n",
       "buff         168\n",
       "pink         144\n",
       "cinnamon      44\n",
       "green         16\n",
       "purple        16\n",
       "Name: cap-color, dtype: int64"
      ]
     },
     "execution_count": 32,
     "metadata": {},
     "output_type": "execute_result"
    }
   ],
   "source": [
    "X['cap-color'].value_counts()"
   ]
  },
  {
   "cell_type": "code",
   "execution_count": 33,
   "metadata": {},
   "outputs": [
    {
     "data": {
      "text/html": [
       "<div>\n",
       "<style scoped>\n",
       "    .dataframe tbody tr th:only-of-type {\n",
       "        vertical-align: middle;\n",
       "    }\n",
       "\n",
       "    .dataframe tbody tr th {\n",
       "        vertical-align: top;\n",
       "    }\n",
       "\n",
       "    .dataframe thead th {\n",
       "        text-align: right;\n",
       "    }\n",
       "</style>\n",
       "<table border=\"1\" class=\"dataframe\">\n",
       "  <thead>\n",
       "    <tr style=\"text-align: right;\">\n",
       "      <th></th>\n",
       "      <th>Brown</th>\n",
       "      <th>Gray</th>\n",
       "      <th>Red</th>\n",
       "      <th>Yellow</th>\n",
       "      <th>White</th>\n",
       "      <th>Buff</th>\n",
       "      <th>Pink</th>\n",
       "      <th>Cinnamon</th>\n",
       "      <th>Purple</th>\n",
       "      <th>Green</th>\n",
       "    </tr>\n",
       "  </thead>\n",
       "  <tbody>\n",
       "    <tr>\n",
       "      <th>1</th>\n",
       "      <td>44.658494</td>\n",
       "      <td>43.913043</td>\n",
       "      <td>58.4</td>\n",
       "      <td>62.686567</td>\n",
       "      <td>30.769231</td>\n",
       "      <td>71.428571</td>\n",
       "      <td>61.111111</td>\n",
       "      <td>27.272727</td>\n",
       "      <td>0.0</td>\n",
       "      <td>0.0</td>\n",
       "    </tr>\n",
       "  </tbody>\n",
       "</table>\n",
       "</div>"
      ],
      "text/plain": [
       "       Brown       Gray   Red     Yellow      White       Buff       Pink  \\\n",
       "1  44.658494  43.913043  58.4  62.686567  30.769231  71.428571  61.111111   \n",
       "\n",
       "    Cinnamon  Purple  Green  \n",
       "1  27.272727     0.0    0.0  "
      ]
     },
     "execution_count": 33,
     "metadata": {},
     "output_type": "execute_result"
    }
   ],
   "source": [
    "p_cap_color_percentages= {   \n",
    "                        'Brown': ((1020/2284)*100),\n",
    "                        'Gray': ((808/1840)*100),\n",
    "                        'Red': ((876/1500)*100),\n",
    "                        'Yellow': ((672/1072)*100),\n",
    "                        'White': ((320/1040)*100),\n",
    "                        'Buff': ((120/168)*100),\n",
    "                        'Pink': ((88/144)*100),\n",
    "                        'Cinnamon': ((12/44)*100),\n",
    "                        'Purple': ((0/16)*100),\n",
    "                        'Green': ((0/16)*100),\n",
    "                    }\n",
    "df_p_cap_color_percentages = pd.DataFrame(p_cap_color_percentages, index=[1])\n",
    "df_p_cap_color_percentages"
   ]
  },
  {
   "cell_type": "code",
   "execution_count": 34,
   "metadata": {},
   "outputs": [
    {
     "data": {
      "image/png": "[encoded data removed]",
      "text/plain": [
       "<Figure size 432x288 with 1 Axes>"
      ]
     },
     "metadata": {
      "needs_background": "light"
     },
     "output_type": "display_data"
    }
   ],
   "source": [
    "ax = df_p_cap_color_percentages.plot.bar()\n",
    "ax.set_title('Relative_Frequencies_of_Poisonious_Cap_Colors')\n",
    "ax.set_xlabel('Cap Color')\n",
    "\n",
    "plt.tight_layout()\n",
    "plt.savefig('Mushroom_Class/Data-Visualizations/Relative_Frequencies_of_Poisonious_Cap_Colors.png')\n",
    "plt.show()"
   ]
  },
  {
   "cell_type": "code",
   "execution_count": 35,
   "metadata": {},
   "outputs": [
    {
     "data": {
      "image/png": "[encoded data removed]",
      "text/plain": [
       "<Figure size 432x288 with 1 Axes>"
      ]
     },
     "metadata": {
      "needs_background": "light"
     },
     "output_type": "display_data"
    }
   ],
   "source": [
    "ax= df.groupby('Y')['cap-color'].value_counts().plot.bar()\n",
    "ax.set_title('Value_Counts_Of_Cap_Color_By_Target')\n",
    "ax.set_xlabel('Class')\n",
    "ax.set_ylabel('Cap-Color')\n",
    "\n",
    "plt.tight_layout()\n",
    "plt.savefig('Mushroom_Class/Data-Visualizations/Value_Counts_Of_Cap_Color_By_Target.png')\n",
    "plt.show()"
   ]
  },
  {
   "cell_type": "markdown",
   "metadata": {},
   "source": [
    "***Bruises***"
   ]
  },
  {
   "cell_type": "code",
   "execution_count": 36,
   "metadata": {},
   "outputs": [
    {
     "data": {
      "text/plain": [
       "Y  bruises\n",
       "0  True       2752\n",
       "   False      1456\n",
       "1  False      3292\n",
       "   True        624\n",
       "Name: bruises, dtype: int64"
      ]
     },
     "execution_count": 36,
     "metadata": {},
     "output_type": "execute_result"
    }
   ],
   "source": [
    "df.groupby('Y')['bruises'].value_counts()"
   ]
  },
  {
   "cell_type": "code",
   "execution_count": 37,
   "metadata": {},
   "outputs": [
    {
     "data": {
      "text/plain": [
       "False    4748\n",
       "True     3376\n",
       "Name: bruises, dtype: int64"
      ]
     },
     "execution_count": 37,
     "metadata": {},
     "output_type": "execute_result"
    }
   ],
   "source": [
    "X['bruises'].value_counts()"
   ]
  },
  {
   "cell_type": "code",
   "execution_count": 38,
   "metadata": {},
   "outputs": [
    {
     "data": {
      "text/html": [
       "<div>\n",
       "<style scoped>\n",
       "    .dataframe tbody tr th:only-of-type {\n",
       "        vertical-align: middle;\n",
       "    }\n",
       "\n",
       "    .dataframe tbody tr th {\n",
       "        vertical-align: top;\n",
       "    }\n",
       "\n",
       "    .dataframe thead th {\n",
       "        text-align: right;\n",
       "    }\n",
       "</style>\n",
       "<table border=\"1\" class=\"dataframe\">\n",
       "  <thead>\n",
       "    <tr style=\"text-align: right;\">\n",
       "      <th></th>\n",
       "      <th>No Bruises</th>\n",
       "      <th>Bruises</th>\n",
       "    </tr>\n",
       "  </thead>\n",
       "  <tbody>\n",
       "    <tr>\n",
       "      <th>1</th>\n",
       "      <td>69.334457</td>\n",
       "      <td>18.483412</td>\n",
       "    </tr>\n",
       "  </tbody>\n",
       "</table>\n",
       "</div>"
      ],
      "text/plain": [
       "   No Bruises    Bruises\n",
       "1   69.334457  18.483412"
      ]
     },
     "execution_count": 38,
     "metadata": {},
     "output_type": "execute_result"
    }
   ],
   "source": [
    "p_bruises_percentages= {   \n",
    "                        'No Bruises': ((3292/4748)*100),\n",
    "                        'Bruises': ((624/3376)*100)\n",
    "                        }\n",
    "df_p_bruises_percentages = pd.DataFrame(p_bruises_percentages, index=[1])\n",
    "df_p_bruises_percentages"
   ]
  },
  {
   "cell_type": "code",
   "execution_count": 39,
   "metadata": {},
   "outputs": [
    {
     "data": {
      "image/png": "[encoded data removed]",
      "text/plain": [
       "<Figure size 432x288 with 1 Axes>"
      ]
     },
     "metadata": {
      "needs_background": "light"
     },
     "output_type": "display_data"
    }
   ],
   "source": [
    "ax = df_p_bruises_percentages.plot.bar()\n",
    "ax.set_title('Relative_Frequencies_of_Poisonious_Mushrooms_With_Or_Without_Bruises')\n",
    "ax.set_xlabel('Bruise Status')\n",
    "\n",
    "plt.tight_layout()\n",
    "plt.savefig('Mushroom_Class/Data-Visualizations/Relative_Frequencies_of_Poisonious_Mushrooms_With_Or_Without_Bruises.png')\n",
    "plt.show()"
   ]
  },
  {
   "cell_type": "code",
   "execution_count": 40,
   "metadata": {},
   "outputs": [
    {
     "data": {
      "image/png": "[encoded data removed]",
      "text/plain": [
       "<Figure size 432x288 with 1 Axes>"
      ]
     },
     "metadata": {
      "needs_background": "light"
     },
     "output_type": "display_data"
    }
   ],
   "source": [
    "ax= df.groupby('Y')['bruises'].value_counts().plot.bar()\n",
    "ax.set_title('Value_Counts_Of_Bruise_Status_By_Target')\n",
    "ax.set_xlabel('Class')\n",
    "ax.set_ylabel('Bruise Status')\n",
    "\n",
    "plt.tight_layout()\n",
    "plt.savefig('Mushroom_Class/Data-Visualizations/Value_Counts_Of_Bruise_Status_By_Target.png')\n",
    "plt.show()"
   ]
  },
  {
   "cell_type": "code",
   "execution_count": null,
   "metadata": {},
   "outputs": [],
   "source": []
  },
  {
   "cell_type": "markdown",
   "metadata": {},
   "source": [
    "***Odor***"
   ]
  },
  {
   "cell_type": "code",
   "execution_count": 41,
   "metadata": {},
   "outputs": [
    {
     "data": {
      "text/plain": [
       "Y  odor    \n",
       "0  none        3408\n",
       "   almond       400\n",
       "   anise        400\n",
       "1  foul        2160\n",
       "   fishy        576\n",
       "   spicy        576\n",
       "   pungent      256\n",
       "   creosote     192\n",
       "   none         120\n",
       "   musty         36\n",
       "Name: odor, dtype: int64"
      ]
     },
     "execution_count": 41,
     "metadata": {},
     "output_type": "execute_result"
    }
   ],
   "source": [
    "df.groupby('Y')['odor'].value_counts()"
   ]
  },
  {
   "cell_type": "code",
   "execution_count": 42,
   "metadata": {},
   "outputs": [
    {
     "data": {
      "text/plain": [
       "none        3528\n",
       "foul        2160\n",
       "spicy        576\n",
       "fishy        576\n",
       "anise        400\n",
       "almond       400\n",
       "pungent      256\n",
       "creosote     192\n",
       "musty         36\n",
       "Name: odor, dtype: int64"
      ]
     },
     "execution_count": 42,
     "metadata": {},
     "output_type": "execute_result"
    }
   ],
   "source": [
    "X['odor'].value_counts()"
   ]
  },
  {
   "cell_type": "code",
   "execution_count": 43,
   "metadata": {},
   "outputs": [
    {
     "data": {
      "text/html": [
       "<div>\n",
       "<style scoped>\n",
       "    .dataframe tbody tr th:only-of-type {\n",
       "        vertical-align: middle;\n",
       "    }\n",
       "\n",
       "    .dataframe tbody tr th {\n",
       "        vertical-align: top;\n",
       "    }\n",
       "\n",
       "    .dataframe thead th {\n",
       "        text-align: right;\n",
       "    }\n",
       "</style>\n",
       "<table border=\"1\" class=\"dataframe\">\n",
       "  <thead>\n",
       "    <tr style=\"text-align: right;\">\n",
       "      <th></th>\n",
       "      <th>foul</th>\n",
       "      <th>fishy</th>\n",
       "      <th>spicy</th>\n",
       "      <th>pungent</th>\n",
       "      <th>creosote</th>\n",
       "      <th>none</th>\n",
       "      <th>musty</th>\n",
       "      <th>almond</th>\n",
       "      <th>anise</th>\n",
       "    </tr>\n",
       "  </thead>\n",
       "  <tbody>\n",
       "    <tr>\n",
       "      <th>1</th>\n",
       "      <td>100.0</td>\n",
       "      <td>100.0</td>\n",
       "      <td>100.0</td>\n",
       "      <td>100.0</td>\n",
       "      <td>100.0</td>\n",
       "      <td>3.401361</td>\n",
       "      <td>100.0</td>\n",
       "      <td>0.0</td>\n",
       "      <td>0.0</td>\n",
       "    </tr>\n",
       "  </tbody>\n",
       "</table>\n",
       "</div>"
      ],
      "text/plain": [
       "    foul  fishy  spicy  pungent  creosote      none  musty  almond  anise\n",
       "1  100.0  100.0  100.0    100.0     100.0  3.401361  100.0     0.0    0.0"
      ]
     },
     "execution_count": 43,
     "metadata": {},
     "output_type": "execute_result"
    }
   ],
   "source": [
    "p_odor_percentages = {\n",
    "                       'foul' : ((2160/2160)*100),\n",
    "                       'fishy' : ((576/576)*100),\n",
    "                       'spicy' : ((576/576)*100),\n",
    "                       'pungent' : ((256/256)*100),\n",
    "                       'creosote' : ((192/192)*100),\n",
    "                       'none' : ((120/3528)*100),\n",
    "                       'musty' : ((36/36)*100),\n",
    "                       'almond' : ((0/400)*100),\n",
    "                       'anise' : ((0/400)*100)\n",
    "                     }\n",
    "df_p_odor_percentages = pd.DataFrame(p_odor_percentages, index=[1])\n",
    "df_p_odor_percentages"
   ]
  },
  {
   "cell_type": "code",
   "execution_count": 44,
   "metadata": {},
   "outputs": [
    {
     "data": {
      "image/png": "[encoded data removed]",
      "text/plain": [
       "<Figure size 432x288 with 1 Axes>"
      ]
     },
     "metadata": {
      "needs_background": "light"
     },
     "output_type": "display_data"
    }
   ],
   "source": [
    "ax = df_p_odor_percentages.plot.bar()\n",
    "ax.set_title('Relative_Frequencies_of_Poisonious_Mushroom_Odors')\n",
    "ax.set_xlabel('Odors')\n",
    "\n",
    "plt.tight_layout()\n",
    "plt.savefig('Mushroom_Class/Data-Visualizations/Relative_Frequencies_of_Poisonious_Mushroom_Odors.png')\n",
    "plt.show()"
   ]
  },
  {
   "cell_type": "code",
   "execution_count": 45,
   "metadata": {},
   "outputs": [
    {
     "data": {
      "image/png": "[encoded data removed]",
      "text/plain": [
       "<Figure size 432x288 with 1 Axes>"
      ]
     },
     "metadata": {
      "needs_background": "light"
     },
     "output_type": "display_data"
    }
   ],
   "source": [
    "ax= df.groupby('Y')['odor'].value_counts().plot.bar()\n",
    "ax.set_title('Value_Counts_Of_Odor_By_Target')\n",
    "ax.set_xlabel('Class')\n",
    "ax.set_ylabel('Odor')\n",
    "\n",
    "plt.tight_layout()\n",
    "plt.savefig('Mushroom_Class/Data-Visualizations/Value_Counts_Of_Odor_By_Target.png')\n",
    "plt.show()"
   ]
  },
  {
   "cell_type": "markdown",
   "metadata": {},
   "source": [
    "***Gill Attachment***"
   ]
  },
  {
   "cell_type": "code",
   "execution_count": 46,
   "metadata": {},
   "outputs": [
    {
     "data": {
      "text/plain": [
       "Y  gill-attachment\n",
       "0  free               4016\n",
       "   attached            192\n",
       "1  free               3898\n",
       "   attached             18\n",
       "Name: gill-attachment, dtype: int64"
      ]
     },
     "execution_count": 46,
     "metadata": {},
     "output_type": "execute_result"
    }
   ],
   "source": [
    "df.groupby('Y')['gill-attachment'].value_counts()"
   ]
  },
  {
   "cell_type": "code",
   "execution_count": 47,
   "metadata": {},
   "outputs": [
    {
     "data": {
      "text/plain": [
       "free        7914\n",
       "attached     210\n",
       "Name: gill-attachment, dtype: int64"
      ]
     },
     "execution_count": 47,
     "metadata": {},
     "output_type": "execute_result"
    }
   ],
   "source": [
    "X['gill-attachment'].value_counts()"
   ]
  },
  {
   "cell_type": "code",
   "execution_count": 48,
   "metadata": {},
   "outputs": [
    {
     "data": {
      "text/html": [
       "<div>\n",
       "<style scoped>\n",
       "    .dataframe tbody tr th:only-of-type {\n",
       "        vertical-align: middle;\n",
       "    }\n",
       "\n",
       "    .dataframe tbody tr th {\n",
       "        vertical-align: top;\n",
       "    }\n",
       "\n",
       "    .dataframe thead th {\n",
       "        text-align: right;\n",
       "    }\n",
       "</style>\n",
       "<table border=\"1\" class=\"dataframe\">\n",
       "  <thead>\n",
       "    <tr style=\"text-align: right;\">\n",
       "      <th></th>\n",
       "      <th>Free</th>\n",
       "      <th>Attached</th>\n",
       "    </tr>\n",
       "  </thead>\n",
       "  <tbody>\n",
       "    <tr>\n",
       "      <th>1</th>\n",
       "      <td>49.254486</td>\n",
       "      <td>8.571429</td>\n",
       "    </tr>\n",
       "  </tbody>\n",
       "</table>\n",
       "</div>"
      ],
      "text/plain": [
       "        Free  Attached\n",
       "1  49.254486  8.571429"
      ]
     },
     "execution_count": 48,
     "metadata": {},
     "output_type": "execute_result"
    }
   ],
   "source": [
    "p_gill_attachment_percentages = {\n",
    "                               'Free' : ((3898/7914)*100),\n",
    "                               'Attached' : ((18/210)*100), \n",
    "                                }\n",
    "df_p_gill_attachment_percentages = pd.DataFrame(p_gill_attachment_percentages, index=[1])\n",
    "df_p_gill_attachment_percentages"
   ]
  },
  {
   "cell_type": "code",
   "execution_count": 49,
   "metadata": {},
   "outputs": [
    {
     "data": {
      "image/png": "[encoded data removed]",
      "text/plain": [
       "<Figure size 432x288 with 1 Axes>"
      ]
     },
     "metadata": {
      "needs_background": "light"
     },
     "output_type": "display_data"
    }
   ],
   "source": [
    "ax = df_p_gill_attachment_percentages.plot.bar()\n",
    "ax.set_title('Relative_Frequencies_of_Poisonious_Mushroom_By_Gill_Attachment')\n",
    "ax.set_xlabel('Gill Attachment Status')\n",
    "\n",
    "plt.tight_layout()\n",
    "plt.savefig('Mushroom_Class/Data-Visualizations/Relative_Frequencies_of_Poisonious_Mushroom_By_Gill_Attachment.png')\n",
    "plt.show()"
   ]
  },
  {
   "cell_type": "code",
   "execution_count": 50,
   "metadata": {},
   "outputs": [
    {
     "data": {
      "image/png": "[encoded data removed]",
      "text/plain": [
       "<Figure size 432x288 with 1 Axes>"
      ]
     },
     "metadata": {
      "needs_background": "light"
     },
     "output_type": "display_data"
    }
   ],
   "source": [
    "ax= df.groupby('Y')['gill-attachment'].value_counts().plot.bar()\n",
    "ax.set_title('Value_Counts_Of_Gill_Attachment_By_Target')\n",
    "ax.set_xlabel('Class')\n",
    "ax.set_ylabel('Gill-Attachment')\n",
    "\n",
    "plt.tight_layout()\n",
    "plt.savefig('Mushroom_Class/Data-Visualizations/Value_Counts_Of_Gill_Attachment_By_Target.png')\n",
    "plt.show()"
   ]
  },
  {
   "cell_type": "markdown",
   "metadata": {},
   "source": [
    "***Gill Spacing***"
   ]
  },
  {
   "cell_type": "code",
   "execution_count": 51,
   "metadata": {},
   "outputs": [
    {
     "data": {
      "text/plain": [
       "Y  gill-spacing\n",
       "0  close           3008\n",
       "   crowded         1200\n",
       "1  close           3804\n",
       "   crowded          112\n",
       "Name: gill-spacing, dtype: int64"
      ]
     },
     "execution_count": 51,
     "metadata": {},
     "output_type": "execute_result"
    }
   ],
   "source": [
    "df.groupby('Y')['gill-spacing'].value_counts()"
   ]
  },
  {
   "cell_type": "code",
   "execution_count": 52,
   "metadata": {},
   "outputs": [
    {
     "data": {
      "text/plain": [
       "close      6812\n",
       "crowded    1312\n",
       "Name: gill-spacing, dtype: int64"
      ]
     },
     "execution_count": 52,
     "metadata": {},
     "output_type": "execute_result"
    }
   ],
   "source": [
    "X['gill-spacing'].value_counts()"
   ]
  },
  {
   "cell_type": "code",
   "execution_count": 53,
   "metadata": {},
   "outputs": [
    {
     "data": {
      "text/html": [
       "<div>\n",
       "<style scoped>\n",
       "    .dataframe tbody tr th:only-of-type {\n",
       "        vertical-align: middle;\n",
       "    }\n",
       "\n",
       "    .dataframe tbody tr th {\n",
       "        vertical-align: top;\n",
       "    }\n",
       "\n",
       "    .dataframe thead th {\n",
       "        text-align: right;\n",
       "    }\n",
       "</style>\n",
       "<table border=\"1\" class=\"dataframe\">\n",
       "  <thead>\n",
       "    <tr style=\"text-align: right;\">\n",
       "      <th></th>\n",
       "      <th>Close</th>\n",
       "      <th>Crowded</th>\n",
       "    </tr>\n",
       "  </thead>\n",
       "  <tbody>\n",
       "    <tr>\n",
       "      <th>1</th>\n",
       "      <td>55.842631</td>\n",
       "      <td>8.536585</td>\n",
       "    </tr>\n",
       "  </tbody>\n",
       "</table>\n",
       "</div>"
      ],
      "text/plain": [
       "       Close   Crowded\n",
       "1  55.842631  8.536585"
      ]
     },
     "execution_count": 53,
     "metadata": {},
     "output_type": "execute_result"
    }
   ],
   "source": [
    "p_gill_spacing_percentages = {\n",
    "                               'Close' : ((3804/6812)*100),\n",
    "                               'Crowded' : ((112/1312)*100), \n",
    "                                }\n",
    "df_p_gill_spacing_percentages  = pd.DataFrame(p_gill_spacing_percentages , index=[1])\n",
    "df_p_gill_spacing_percentages "
   ]
  },
  {
   "cell_type": "code",
   "execution_count": 54,
   "metadata": {},
   "outputs": [
    {
     "data": {
      "image/png": "[encoded data removed]",
      "text/plain": [
       "<Figure size 432x288 with 1 Axes>"
      ]
     },
     "metadata": {
      "needs_background": "light"
     },
     "output_type": "display_data"
    }
   ],
   "source": [
    "ax = df_p_gill_spacing_percentages.plot.bar()\n",
    "ax.set_title('Relative_Frequencies_of_Poisonious_Mushroom_By_Gill_Spacing')\n",
    "ax.set_xlabel('Gill Spacing')\n",
    "\n",
    "plt.tight_layout()\n",
    "plt.savefig('Mushroom_Class/Data-Visualizations/Relative_Frequencies_of_Poisonious_Mushroom_By_Gill_Spacing.png')\n",
    "plt.show()"
   ]
  },
  {
   "cell_type": "code",
   "execution_count": 55,
   "metadata": {},
   "outputs": [
    {
     "data": {
      "image/png": "[encoded data removed]",
      "text/plain": [
       "<Figure size 432x288 with 1 Axes>"
      ]
     },
     "metadata": {
      "needs_background": "light"
     },
     "output_type": "display_data"
    }
   ],
   "source": [
    "ax= df.groupby('Y')['gill-attachment'].value_counts().plot.bar()\n",
    "ax.set_title('Value_Counts_Of_Gill_Spacing_By_Target')\n",
    "ax.set_xlabel('Class')\n",
    "ax.set_ylabel('Gill Spacing')\n",
    "\n",
    "plt.tight_layout()\n",
    "plt.savefig('Mushroom_Class/Data-Visualizations/Value_Counts_Of_Gill_Spacing_By_Target.png')\n",
    "plt.show()"
   ]
  },
  {
   "cell_type": "markdown",
   "metadata": {},
   "source": [
    "***Gill Size***"
   ]
  },
  {
   "cell_type": "code",
   "execution_count": 56,
   "metadata": {},
   "outputs": [
    {
     "data": {
      "text/plain": [
       "Y  gill-size\n",
       "0  broad        3920\n",
       "   narrow        288\n",
       "1  narrow       2224\n",
       "   broad        1692\n",
       "Name: gill-size, dtype: int64"
      ]
     },
     "execution_count": 56,
     "metadata": {},
     "output_type": "execute_result"
    }
   ],
   "source": [
    "df.groupby('Y')['gill-size'].value_counts()"
   ]
  },
  {
   "cell_type": "code",
   "execution_count": 57,
   "metadata": {},
   "outputs": [
    {
     "data": {
      "text/plain": [
       "broad     5612\n",
       "narrow    2512\n",
       "Name: gill-size, dtype: int64"
      ]
     },
     "execution_count": 57,
     "metadata": {},
     "output_type": "execute_result"
    }
   ],
   "source": [
    "X['gill-size'].value_counts()"
   ]
  },
  {
   "cell_type": "code",
   "execution_count": 58,
   "metadata": {},
   "outputs": [
    {
     "data": {
      "text/html": [
       "<div>\n",
       "<style scoped>\n",
       "    .dataframe tbody tr th:only-of-type {\n",
       "        vertical-align: middle;\n",
       "    }\n",
       "\n",
       "    .dataframe tbody tr th {\n",
       "        vertical-align: top;\n",
       "    }\n",
       "\n",
       "    .dataframe thead th {\n",
       "        text-align: right;\n",
       "    }\n",
       "</style>\n",
       "<table border=\"1\" class=\"dataframe\">\n",
       "  <thead>\n",
       "    <tr style=\"text-align: right;\">\n",
       "      <th></th>\n",
       "      <th>Broad</th>\n",
       "      <th>Narrow</th>\n",
       "    </tr>\n",
       "  </thead>\n",
       "  <tbody>\n",
       "    <tr>\n",
       "      <th>1</th>\n",
       "      <td>30.149679</td>\n",
       "      <td>88.535032</td>\n",
       "    </tr>\n",
       "  </tbody>\n",
       "</table>\n",
       "</div>"
      ],
      "text/plain": [
       "       Broad     Narrow\n",
       "1  30.149679  88.535032"
      ]
     },
     "execution_count": 58,
     "metadata": {},
     "output_type": "execute_result"
    }
   ],
   "source": [
    "p_gill_size_percentages = {\n",
    "                               'Broad' : ((1692/5612)*100),\n",
    "                               'Narrow' : ((2224/2512)*100), \n",
    "                                }\n",
    "df_p_gill_size_percentages  = pd.DataFrame(p_gill_size_percentages , index=[1])\n",
    "df_p_gill_size_percentages"
   ]
  },
  {
   "cell_type": "code",
   "execution_count": 59,
   "metadata": {},
   "outputs": [
    {
     "data": {
      "image/png": "[encoded data removed]",
      "text/plain": [
       "<Figure size 432x288 with 1 Axes>"
      ]
     },
     "metadata": {
      "needs_background": "light"
     },
     "output_type": "display_data"
    }
   ],
   "source": [
    "ax = df_p_gill_size_percentages.plot.bar()\n",
    "ax.set_title('Relative_Frequencies_of_Poisonious_Mushroom_By_Gill_Size')\n",
    "ax.set_xlabel('Gill Size')\n",
    "\n",
    "plt.tight_layout()\n",
    "plt.savefig('Mushroom_Class/Data-Visualizations/Relative_Frequencies_of_Poisonious_Mushroom_By_Gill_Size.png')\n",
    "plt.show()"
   ]
  },
  {
   "cell_type": "code",
   "execution_count": 60,
   "metadata": {},
   "outputs": [
    {
     "data": {
      "image/png": "[encoded data removed]",
      "text/plain": [
       "<Figure size 432x288 with 1 Axes>"
      ]
     },
     "metadata": {
      "needs_background": "light"
     },
     "output_type": "display_data"
    }
   ],
   "source": [
    "ax= df.groupby('Y')['gill-size'].value_counts().plot.bar()\n",
    "ax.set_title('Value_Counts_Of_Gill_Size_By_Target')\n",
    "ax.set_xlabel('Class')\n",
    "ax.set_ylabel('Gill Size')\n",
    "\n",
    "plt.tight_layout()\n",
    "plt.savefig('Mushroom_Class/Data-Visualizations/Value_Counts_Of_Gill_Size_By_Target.png')\n",
    "plt.show()"
   ]
  },
  {
   "cell_type": "markdown",
   "metadata": {},
   "source": [
    "***Gill Color***"
   ]
  },
  {
   "cell_type": "code",
   "execution_count": 61,
   "metadata": {},
   "outputs": [
    {
     "data": {
      "text/plain": [
       "Y  gill-color\n",
       "0  white          956\n",
       "   brown          936\n",
       "   pink           852\n",
       "   purple         444\n",
       "   black          344\n",
       "   gray           248\n",
       "   chocolate      204\n",
       "   red             96\n",
       "   orange          64\n",
       "   yellow          64\n",
       "1  buff          1728\n",
       "   pink           640\n",
       "   chocolate      528\n",
       "   gray           504\n",
       "   white          246\n",
       "   brown          112\n",
       "   black           64\n",
       "   purple          48\n",
       "   green           24\n",
       "   yellow          22\n",
       "Name: gill-color, dtype: int64"
      ]
     },
     "execution_count": 61,
     "metadata": {},
     "output_type": "execute_result"
    }
   ],
   "source": [
    "df.groupby('Y')['gill-color'].value_counts()"
   ]
  },
  {
   "cell_type": "code",
   "execution_count": 62,
   "metadata": {},
   "outputs": [
    {
     "data": {
      "text/plain": [
       "buff         1728\n",
       "pink         1492\n",
       "white        1202\n",
       "brown        1048\n",
       "gray          752\n",
       "chocolate     732\n",
       "purple        492\n",
       "black         408\n",
       "red            96\n",
       "yellow         86\n",
       "orange         64\n",
       "green          24\n",
       "Name: gill-color, dtype: int64"
      ]
     },
     "execution_count": 62,
     "metadata": {},
     "output_type": "execute_result"
    }
   ],
   "source": [
    "X['gill-color'].value_counts()"
   ]
  },
  {
   "cell_type": "code",
   "execution_count": 63,
   "metadata": {},
   "outputs": [
    {
     "data": {
      "text/html": [
       "<div>\n",
       "<style scoped>\n",
       "    .dataframe tbody tr th:only-of-type {\n",
       "        vertical-align: middle;\n",
       "    }\n",
       "\n",
       "    .dataframe tbody tr th {\n",
       "        vertical-align: top;\n",
       "    }\n",
       "\n",
       "    .dataframe thead th {\n",
       "        text-align: right;\n",
       "    }\n",
       "</style>\n",
       "<table border=\"1\" class=\"dataframe\">\n",
       "  <thead>\n",
       "    <tr style=\"text-align: right;\">\n",
       "      <th></th>\n",
       "      <th>Buff</th>\n",
       "      <th>Pink</th>\n",
       "      <th>White</th>\n",
       "      <th>Brown</th>\n",
       "      <th>Gray</th>\n",
       "      <th>Chocolate</th>\n",
       "      <th>Purple</th>\n",
       "      <th>Black</th>\n",
       "      <th>Red</th>\n",
       "      <th>Yellow</th>\n",
       "      <th>Orange</th>\n",
       "      <th>Green</th>\n",
       "    </tr>\n",
       "  </thead>\n",
       "  <tbody>\n",
       "    <tr>\n",
       "      <th>1</th>\n",
       "      <td>100.0</td>\n",
       "      <td>42.895442</td>\n",
       "      <td>20.46589</td>\n",
       "      <td>10.687023</td>\n",
       "      <td>67.021277</td>\n",
       "      <td>72.131148</td>\n",
       "      <td>9.756098</td>\n",
       "      <td>15.686275</td>\n",
       "      <td>0.0</td>\n",
       "      <td>25.581395</td>\n",
       "      <td>0.0</td>\n",
       "      <td>100.0</td>\n",
       "    </tr>\n",
       "  </tbody>\n",
       "</table>\n",
       "</div>"
      ],
      "text/plain": [
       "    Buff       Pink     White      Brown       Gray  Chocolate    Purple  \\\n",
       "1  100.0  42.895442  20.46589  10.687023  67.021277  72.131148  9.756098   \n",
       "\n",
       "       Black  Red     Yellow  Orange  Green  \n",
       "1  15.686275  0.0  25.581395     0.0  100.0  "
      ]
     },
     "execution_count": 63,
     "metadata": {},
     "output_type": "execute_result"
    }
   ],
   "source": [
    "p_gill_color_percentages = {   \n",
    "                                'Buff': ((1728/1728)*100),\n",
    "                                'Pink': ((640/1492)*100),\n",
    "                                'White': ((246/1202)*100),\n",
    "                                'Brown': ((112/1048)*100),\n",
    "                                'Gray': ((504/752)*100),\n",
    "                                'Chocolate': ((528/732)*100),\n",
    "                                'Purple': ((48/492)*100),\n",
    "                                'Black': ((64/408)*100),\n",
    "                                'Red': ((0/96)*100),\n",
    "                                'Yellow': ((22/86)*100),\n",
    "                                'Orange': ((0/64)*100),\n",
    "                                'Green': ((24/24)*100),\n",
    "                            }\n",
    "\n",
    "df_p_gill_color_percentages = pd.DataFrame(p_gill_color_percentages, index=[1])\n",
    "df_p_gill_color_percentages"
   ]
  },
  {
   "cell_type": "code",
   "execution_count": 64,
   "metadata": {},
   "outputs": [
    {
     "data": {
      "image/png": "[encoded data removed]",
      "text/plain": [
       "<Figure size 432x288 with 1 Axes>"
      ]
     },
     "metadata": {
      "needs_background": "light"
     },
     "output_type": "display_data"
    }
   ],
   "source": [
    "ax = df_p_gill_color_percentages.plot.bar()\n",
    "ax.set_title('Relative_Frequencies_of_Poisonious_Mushroom_By_Gill_Color')\n",
    "ax.set_xlabel('Gill Color')\n",
    "\n",
    "plt.tight_layout()\n",
    "plt.savefig('Mushroom_Class/Data-Visualizations/Relative_Frequencies_of_Poisonious_Mushroom_By_Gill_Color.png')\n",
    "plt.show()"
   ]
  },
  {
   "cell_type": "code",
   "execution_count": 65,
   "metadata": {},
   "outputs": [
    {
     "data": {
      "image/png": "[encoded data removed]",
      "text/plain": [
       "<Figure size 432x288 with 1 Axes>"
      ]
     },
     "metadata": {
      "needs_background": "light"
     },
     "output_type": "display_data"
    }
   ],
   "source": [
    "ax= df.groupby('Y')['gill-color'].value_counts().plot.bar()\n",
    "ax.set_title('Value_Counts_Of_Gill_Color_By_Target')\n",
    "ax.set_xlabel('Class')\n",
    "ax.set_ylabel('Gill Color')\n",
    "\n",
    "plt.tight_layout()\n",
    "plt.savefig('Mushroom_Class/Data-Visualizations/Value_Counts_Of_Gill_Color_By_Target.png')\n",
    "plt.show()"
   ]
  },
  {
   "cell_type": "markdown",
   "metadata": {},
   "source": [
    "***Stalk Shape***"
   ]
  },
  {
   "cell_type": "code",
   "execution_count": 66,
   "metadata": {},
   "outputs": [
    {
     "data": {
      "text/plain": [
       "Y  stalk-shape\n",
       "0  tapering       2592\n",
       "   enlarging      1616\n",
       "1  tapering       2016\n",
       "   enlarging      1900\n",
       "Name: stalk-shape, dtype: int64"
      ]
     },
     "execution_count": 66,
     "metadata": {},
     "output_type": "execute_result"
    }
   ],
   "source": [
    "df.groupby('Y')['stalk-shape'].value_counts()"
   ]
  },
  {
   "cell_type": "code",
   "execution_count": 67,
   "metadata": {},
   "outputs": [
    {
     "data": {
      "text/plain": [
       "tapering     4608\n",
       "enlarging    3516\n",
       "Name: stalk-shape, dtype: int64"
      ]
     },
     "execution_count": 67,
     "metadata": {},
     "output_type": "execute_result"
    }
   ],
   "source": [
    "X['stalk-shape'].value_counts()"
   ]
  },
  {
   "cell_type": "code",
   "execution_count": 68,
   "metadata": {},
   "outputs": [
    {
     "data": {
      "text/html": [
       "<div>\n",
       "<style scoped>\n",
       "    .dataframe tbody tr th:only-of-type {\n",
       "        vertical-align: middle;\n",
       "    }\n",
       "\n",
       "    .dataframe tbody tr th {\n",
       "        vertical-align: top;\n",
       "    }\n",
       "\n",
       "    .dataframe thead th {\n",
       "        text-align: right;\n",
       "    }\n",
       "</style>\n",
       "<table border=\"1\" class=\"dataframe\">\n",
       "  <thead>\n",
       "    <tr style=\"text-align: right;\">\n",
       "      <th></th>\n",
       "      <th>Tapering</th>\n",
       "      <th>Enlarging</th>\n",
       "    </tr>\n",
       "  </thead>\n",
       "  <tbody>\n",
       "    <tr>\n",
       "      <th>1</th>\n",
       "      <td>43.75</td>\n",
       "      <td>54.03868</td>\n",
       "    </tr>\n",
       "  </tbody>\n",
       "</table>\n",
       "</div>"
      ],
      "text/plain": [
       "   Tapering  Enlarging\n",
       "1     43.75   54.03868"
      ]
     },
     "execution_count": 68,
     "metadata": {},
     "output_type": "execute_result"
    }
   ],
   "source": [
    "p_stalk_shape_percentages = {\n",
    "                               'Tapering' : ((2016/4608)*100),\n",
    "                               'Enlarging' : ((1900/3516)*100), \n",
    "                            }\n",
    "\n",
    "df_p_stalk_shape_percentages  = pd.DataFrame(p_stalk_shape_percentages , index=[1])\n",
    "df_p_stalk_shape_percentages"
   ]
  },
  {
   "cell_type": "code",
   "execution_count": 69,
   "metadata": {},
   "outputs": [
    {
     "data": {
      "image/png": "[encoded data removed]",
      "text/plain": [
       "<Figure size 432x288 with 1 Axes>"
      ]
     },
     "metadata": {
      "needs_background": "light"
     },
     "output_type": "display_data"
    }
   ],
   "source": [
    "ax = df_p_stalk_shape_percentages.plot.bar()\n",
    "ax.set_title('Relative_Frequencies_of_Poisonious_Mushroom_By_Stalk_Shape')\n",
    "ax.set_xlabel('Stalk Shape')\n",
    "\n",
    "plt.tight_layout()\n",
    "plt.savefig('Mushroom_Class/Data-Visualizations/Relative_Frequencies_of_Poisonious_Mushroom_By_Stalk_Shape.png')\n",
    "plt.show()"
   ]
  },
  {
   "cell_type": "code",
   "execution_count": 70,
   "metadata": {},
   "outputs": [
    {
     "data": {
      "image/png": "[encoded data removed]",
      "text/plain": [
       "<Figure size 432x288 with 1 Axes>"
      ]
     },
     "metadata": {
      "needs_background": "light"
     },
     "output_type": "display_data"
    }
   ],
   "source": [
    "ax= df.groupby('Y')['stalk-shape'].value_counts().plot.bar()\n",
    "ax.set_title('Value_Counts_Of_Stalk_Shape_By_Target')\n",
    "ax.set_xlabel('Class')\n",
    "ax.set_ylabel('Stalk Shape')\n",
    "\n",
    "plt.tight_layout()\n",
    "plt.savefig('Mushroom_Class/Data-Visualizations/Value_Counts_Of_Stalk_Shape_By_Target.png')\n",
    "plt.show()"
   ]
  },
  {
   "cell_type": "markdown",
   "metadata": {},
   "source": [
    "***Stalk Root***"
   ]
  },
  {
   "cell_type": "code",
   "execution_count": 71,
   "metadata": {},
   "outputs": [
    {
     "data": {
      "text/plain": [
       "Y  stalk-root\n",
       "0  bulbous       2640\n",
       "   equal          864\n",
       "   club           512\n",
       "   rooted         192\n",
       "1  bulbous       3616\n",
       "   equal          256\n",
       "   club            44\n",
       "Name: stalk-root, dtype: int64"
      ]
     },
     "execution_count": 71,
     "metadata": {},
     "output_type": "execute_result"
    }
   ],
   "source": [
    "df.groupby('Y')['stalk-root'].value_counts()"
   ]
  },
  {
   "cell_type": "code",
   "execution_count": 72,
   "metadata": {},
   "outputs": [
    {
     "data": {
      "text/plain": [
       "bulbous    6256\n",
       "equal      1120\n",
       "club        556\n",
       "rooted      192\n",
       "Name: stalk-root, dtype: int64"
      ]
     },
     "execution_count": 72,
     "metadata": {},
     "output_type": "execute_result"
    }
   ],
   "source": [
    "X['stalk-root'].value_counts()"
   ]
  },
  {
   "cell_type": "code",
   "execution_count": 73,
   "metadata": {},
   "outputs": [
    {
     "data": {
      "text/html": [
       "<div>\n",
       "<style scoped>\n",
       "    .dataframe tbody tr th:only-of-type {\n",
       "        vertical-align: middle;\n",
       "    }\n",
       "\n",
       "    .dataframe tbody tr th {\n",
       "        vertical-align: top;\n",
       "    }\n",
       "\n",
       "    .dataframe thead th {\n",
       "        text-align: right;\n",
       "    }\n",
       "</style>\n",
       "<table border=\"1\" class=\"dataframe\">\n",
       "  <thead>\n",
       "    <tr style=\"text-align: right;\">\n",
       "      <th></th>\n",
       "      <th>Bulbous</th>\n",
       "      <th>Equal</th>\n",
       "      <th>Club</th>\n",
       "      <th>Rooted</th>\n",
       "    </tr>\n",
       "  </thead>\n",
       "  <tbody>\n",
       "    <tr>\n",
       "      <th>1</th>\n",
       "      <td>57.800512</td>\n",
       "      <td>22.857143</td>\n",
       "      <td>7.913669</td>\n",
       "      <td>0.0</td>\n",
       "    </tr>\n",
       "  </tbody>\n",
       "</table>\n",
       "</div>"
      ],
      "text/plain": [
       "     Bulbous      Equal      Club  Rooted\n",
       "1  57.800512  22.857143  7.913669     0.0"
      ]
     },
     "execution_count": 73,
     "metadata": {},
     "output_type": "execute_result"
    }
   ],
   "source": [
    "p_stalk_root_percentages = {\n",
    "                               'Bulbous' : ((3616/6256)*100),\n",
    "                               'Equal' : ((256/1120)*100),\n",
    "                               'Club' : ((44/556)*100),\n",
    "                               'Rooted' : ((0/192)*100)\n",
    "                            }\n",
    "\n",
    "df_p_stalk_root_percentages  = pd.DataFrame(p_stalk_root_percentages , index=[1])\n",
    "df_p_stalk_root_percentages"
   ]
  },
  {
   "cell_type": "code",
   "execution_count": 74,
   "metadata": {},
   "outputs": [
    {
     "data": {
      "image/png": "[encoded data removed]",
      "text/plain": [
       "<Figure size 432x288 with 1 Axes>"
      ]
     },
     "metadata": {
      "needs_background": "light"
     },
     "output_type": "display_data"
    }
   ],
   "source": [
    "ax = df_p_stalk_root_percentages.plot.bar()\n",
    "ax.set_title('Relative_Frequencies_of_Poisonious_Mushroom_By_Stalk_Root')\n",
    "ax.set_xlabel('Stalk Root')\n",
    "\n",
    "plt.tight_layout()\n",
    "plt.savefig('Mushroom_Class/Data-Visualizations/Relative_Frequencies_of_Poisonious_Mushroom_By_Stalk_Root.png')\n",
    "plt.show()"
   ]
  },
  {
   "cell_type": "code",
   "execution_count": 75,
   "metadata": {},
   "outputs": [
    {
     "data": {
      "image/png": "[encoded data removed]",
      "text/plain": [
       "<Figure size 432x288 with 1 Axes>"
      ]
     },
     "metadata": {
      "needs_background": "light"
     },
     "output_type": "display_data"
    }
   ],
   "source": [
    "ax= df.groupby('Y')['stalk-root'].value_counts().plot.bar()\n",
    "ax.set_title('Value_Counts_Of_Stalk_Root_By_Target')\n",
    "ax.set_xlabel('Class')\n",
    "ax.set_ylabel('Stalk Root')\n",
    "\n",
    "plt.tight_layout()\n",
    "plt.savefig('Mushroom_Class/Data-Visualizations/Value_Counts_Of_Stalk_Root_By_Target.png')\n",
    "plt.show()"
   ]
  },
  {
   "cell_type": "markdown",
   "metadata": {},
   "source": [
    "***Stalk Surface Above Ring***"
   ]
  },
  {
   "cell_type": "code",
   "execution_count": 76,
   "metadata": {},
   "outputs": [
    {
     "data": {
      "text/plain": [
       "Y  stalk-surface-above-ring\n",
       "0  smooth                      3640\n",
       "   fibrous                      408\n",
       "   silky                        144\n",
       "   scaly                         16\n",
       "1  silky                       2228\n",
       "   smooth                      1536\n",
       "   fibrous                      144\n",
       "   scaly                          8\n",
       "Name: stalk-surface-above-ring, dtype: int64"
      ]
     },
     "execution_count": 76,
     "metadata": {},
     "output_type": "execute_result"
    }
   ],
   "source": [
    "df.groupby('Y')['stalk-surface-above-ring'].value_counts()"
   ]
  },
  {
   "cell_type": "code",
   "execution_count": 77,
   "metadata": {},
   "outputs": [
    {
     "data": {
      "text/plain": [
       "smooth     5176\n",
       "silky      2372\n",
       "fibrous     552\n",
       "scaly        24\n",
       "Name: stalk-surface-above-ring, dtype: int64"
      ]
     },
     "execution_count": 77,
     "metadata": {},
     "output_type": "execute_result"
    }
   ],
   "source": [
    "X['stalk-surface-above-ring'].value_counts()"
   ]
  },
  {
   "cell_type": "code",
   "execution_count": 78,
   "metadata": {},
   "outputs": [
    {
     "data": {
      "text/html": [
       "<div>\n",
       "<style scoped>\n",
       "    .dataframe tbody tr th:only-of-type {\n",
       "        vertical-align: middle;\n",
       "    }\n",
       "\n",
       "    .dataframe tbody tr th {\n",
       "        vertical-align: top;\n",
       "    }\n",
       "\n",
       "    .dataframe thead th {\n",
       "        text-align: right;\n",
       "    }\n",
       "</style>\n",
       "<table border=\"1\" class=\"dataframe\">\n",
       "  <thead>\n",
       "    <tr style=\"text-align: right;\">\n",
       "      <th></th>\n",
       "      <th>Smooth</th>\n",
       "      <th>Silky</th>\n",
       "      <th>Fibrous</th>\n",
       "      <th>Scaly</th>\n",
       "    </tr>\n",
       "  </thead>\n",
       "  <tbody>\n",
       "    <tr>\n",
       "      <th>1</th>\n",
       "      <td>29.675425</td>\n",
       "      <td>93.929174</td>\n",
       "      <td>26.086957</td>\n",
       "      <td>33.333333</td>\n",
       "    </tr>\n",
       "  </tbody>\n",
       "</table>\n",
       "</div>"
      ],
      "text/plain": [
       "      Smooth      Silky    Fibrous      Scaly\n",
       "1  29.675425  93.929174  26.086957  33.333333"
      ]
     },
     "execution_count": 78,
     "metadata": {},
     "output_type": "execute_result"
    }
   ],
   "source": [
    "p_stalk_surface_above_ring_percentages = {\n",
    "                                           'Smooth' : ((1536/5176)*100),\n",
    "                                           'Silky' : ((2228/2372)*100),\n",
    "                                           'Fibrous' : ((144/552)*100),\n",
    "                                           'Scaly' : ((8/24)*100),\n",
    "                                         \n",
    "                                          }\n",
    "\n",
    "df_p_stalk_surface_above_ring_percentages  = pd.DataFrame(p_stalk_surface_above_ring_percentages , index=[1])\n",
    "df_p_stalk_surface_above_ring_percentages"
   ]
  },
  {
   "cell_type": "code",
   "execution_count": 79,
   "metadata": {},
   "outputs": [
    {
     "data": {
      "image/png": "[encoded data removed]",
      "text/plain": [
       "<Figure size 432x288 with 1 Axes>"
      ]
     },
     "metadata": {
      "needs_background": "light"
     },
     "output_type": "display_data"
    }
   ],
   "source": [
    "ax = df_p_stalk_surface_above_ring_percentages.plot.bar()\n",
    "ax.set_title('Relative_Frequencies_of_Poisonious_Mushroom_By_Stalk_Surface_Above_Ring')\n",
    "ax.set_xlabel('Stalk Surface Above Ring')\n",
    "\n",
    "plt.tight_layout()\n",
    "plt.savefig('Mushroom_Class/Data-Visualizations/Relative_Frequencies_of_Poisonious_Mushroom_By_Stalk_Surface_Above_Ring.png')\n",
    "plt.show()"
   ]
  },
  {
   "cell_type": "code",
   "execution_count": 80,
   "metadata": {},
   "outputs": [
    {
     "data": {
      "image/png": "[encoded data removed]",
      "text/plain": [
       "<Figure size 432x288 with 1 Axes>"
      ]
     },
     "metadata": {
      "needs_background": "light"
     },
     "output_type": "display_data"
    }
   ],
   "source": [
    "ax= df.groupby('Y')['stalk-surface-above-ring'].value_counts().plot.bar()\n",
    "ax.set_title('Value_Counts_Of_Stalk_Surface_Above_Ring_By_Target')\n",
    "ax.set_xlabel('Class')\n",
    "ax.set_ylabel('Stalk Surface Above Ring')\n",
    "\n",
    "plt.tight_layout()\n",
    "plt.savefig('Mushroom_Class/Data-Visualizations/Value_Counts_Of_Stalk_Surface_Above_Ring_By_Target.png')\n",
    "plt.show()"
   ]
  },
  {
   "cell_type": "markdown",
   "metadata": {},
   "source": [
    "***Stalk Surface Below Ring***"
   ]
  },
  {
   "cell_type": "code",
   "execution_count": 81,
   "metadata": {},
   "outputs": [
    {
     "data": {
      "text/plain": [
       "Y  stalk-surface-below-ring\n",
       "0  smooth                      3400\n",
       "   fibrous                      456\n",
       "   scaly                        208\n",
       "   silky                        144\n",
       "1  silky                       2160\n",
       "   smooth                      1536\n",
       "   fibrous                      144\n",
       "   scaly                         76\n",
       "Name: stalk-surface-below-ring, dtype: int64"
      ]
     },
     "execution_count": 81,
     "metadata": {},
     "output_type": "execute_result"
    }
   ],
   "source": [
    "df.groupby('Y')['stalk-surface-below-ring'].value_counts()"
   ]
  },
  {
   "cell_type": "code",
   "execution_count": 82,
   "metadata": {},
   "outputs": [
    {
     "data": {
      "text/plain": [
       "smooth     4936\n",
       "silky      2304\n",
       "fibrous     600\n",
       "scaly       284\n",
       "Name: stalk-surface-below-ring, dtype: int64"
      ]
     },
     "execution_count": 82,
     "metadata": {},
     "output_type": "execute_result"
    }
   ],
   "source": [
    "X['stalk-surface-below-ring'].value_counts()"
   ]
  },
  {
   "cell_type": "code",
   "execution_count": 83,
   "metadata": {},
   "outputs": [
    {
     "data": {
      "text/html": [
       "<div>\n",
       "<style scoped>\n",
       "    .dataframe tbody tr th:only-of-type {\n",
       "        vertical-align: middle;\n",
       "    }\n",
       "\n",
       "    .dataframe tbody tr th {\n",
       "        vertical-align: top;\n",
       "    }\n",
       "\n",
       "    .dataframe thead th {\n",
       "        text-align: right;\n",
       "    }\n",
       "</style>\n",
       "<table border=\"1\" class=\"dataframe\">\n",
       "  <thead>\n",
       "    <tr style=\"text-align: right;\">\n",
       "      <th></th>\n",
       "      <th>Smooth</th>\n",
       "      <th>Silky</th>\n",
       "      <th>Fibrous</th>\n",
       "      <th>Scaly</th>\n",
       "    </tr>\n",
       "  </thead>\n",
       "  <tbody>\n",
       "    <tr>\n",
       "      <th>1</th>\n",
       "      <td>31.118314</td>\n",
       "      <td>93.75</td>\n",
       "      <td>24.0</td>\n",
       "      <td>26.760563</td>\n",
       "    </tr>\n",
       "  </tbody>\n",
       "</table>\n",
       "</div>"
      ],
      "text/plain": [
       "      Smooth  Silky  Fibrous      Scaly\n",
       "1  31.118314  93.75     24.0  26.760563"
      ]
     },
     "execution_count": 83,
     "metadata": {},
     "output_type": "execute_result"
    }
   ],
   "source": [
    "p_stalk_surface_below_ring_percentages = {\n",
    "                                           'Smooth' : ((1536/4936)*100),\n",
    "                                           'Silky' : ((2160/2304)*100),\n",
    "                                           'Fibrous' : ((144/600)*100),\n",
    "                                           'Scaly' : ((76/284)*100),\n",
    "                                            }\n",
    "df_p_stalk_surface_below_ring_percentages  = pd.DataFrame(p_stalk_surface_below_ring_percentages , index=[1])\n",
    "df_p_stalk_surface_below_ring_percentages"
   ]
  },
  {
   "cell_type": "code",
   "execution_count": 84,
   "metadata": {},
   "outputs": [
    {
     "data": {
      "image/png": "[encoded data removed]",
      "text/plain": [
       "<Figure size 432x288 with 1 Axes>"
      ]
     },
     "metadata": {
      "needs_background": "light"
     },
     "output_type": "display_data"
    }
   ],
   "source": [
    "ax = df_p_stalk_surface_below_ring_percentages.plot.bar()\n",
    "ax.set_title('Relative_Frequencies_of_Poisonious_Mushroom_By_Stalk_Surface_Below_Ring')\n",
    "ax.set_xlabel('Stalk Surface Below Ring')\n",
    "\n",
    "plt.tight_layout()\n",
    "plt.savefig('Mushroom_Class/Data-Visualizations/Relative_Frequencies_of_Poisonious_Mushroom_By_Stalk_Surface_Below_Ring.png')\n",
    "plt.show()"
   ]
  },
  {
   "cell_type": "code",
   "execution_count": 85,
   "metadata": {},
   "outputs": [
    {
     "data": {
      "image/png": "[encoded data removed]",
      "text/plain": [
       "<Figure size 432x288 with 1 Axes>"
      ]
     },
     "metadata": {
      "needs_background": "light"
     },
     "output_type": "display_data"
    }
   ],
   "source": [
    "ax= df.groupby('Y')['stalk-surface-below-ring'].value_counts().plot.bar()\n",
    "ax.set_title('Value_Counts_Of_Stalk_Surface_Below_Ring_By_Target')\n",
    "ax.set_xlabel('Class')\n",
    "ax.set_ylabel('Stalk Surface Below Ring')\n",
    "\n",
    "plt.tight_layout()\n",
    "plt.savefig('Mushroom_Class/Data-Visualizations/Value_Counts_Of_Stalk_Surface_Below_Ring_By_Target.png')\n",
    "plt.show()"
   ]
  },
  {
   "cell_type": "markdown",
   "metadata": {},
   "source": [
    "***Stalk Color Above Ring***"
   ]
  },
  {
   "cell_type": "code",
   "execution_count": 86,
   "metadata": {},
   "outputs": [
    {
     "data": {
      "text/plain": [
       "Y  stalk-color-above-ring\n",
       "0  white                     2752\n",
       "   gray                       576\n",
       "   pink                       576\n",
       "   orange                     192\n",
       "   red                         96\n",
       "   brown                       16\n",
       "1  white                     1712\n",
       "   pink                      1296\n",
       "   brown                      432\n",
       "   buff                       432\n",
       "   cinnamon                    36\n",
       "   yellow                       8\n",
       "Name: stalk-color-above-ring, dtype: int64"
      ]
     },
     "execution_count": 86,
     "metadata": {},
     "output_type": "execute_result"
    }
   ],
   "source": [
    "df.groupby('Y')['stalk-color-above-ring'].value_counts()"
   ]
  },
  {
   "cell_type": "code",
   "execution_count": 87,
   "metadata": {},
   "outputs": [
    {
     "data": {
      "text/plain": [
       "white       4464\n",
       "pink        1872\n",
       "gray         576\n",
       "brown        448\n",
       "buff         432\n",
       "orange       192\n",
       "red           96\n",
       "cinnamon      36\n",
       "yellow         8\n",
       "Name: stalk-color-above-ring, dtype: int64"
      ]
     },
     "execution_count": 87,
     "metadata": {},
     "output_type": "execute_result"
    }
   ],
   "source": [
    "X['stalk-color-above-ring'].value_counts()"
   ]
  },
  {
   "cell_type": "code",
   "execution_count": 88,
   "metadata": {},
   "outputs": [
    {
     "data": {
      "text/html": [
       "<div>\n",
       "<style scoped>\n",
       "    .dataframe tbody tr th:only-of-type {\n",
       "        vertical-align: middle;\n",
       "    }\n",
       "\n",
       "    .dataframe tbody tr th {\n",
       "        vertical-align: top;\n",
       "    }\n",
       "\n",
       "    .dataframe thead th {\n",
       "        text-align: right;\n",
       "    }\n",
       "</style>\n",
       "<table border=\"1\" class=\"dataframe\">\n",
       "  <thead>\n",
       "    <tr style=\"text-align: right;\">\n",
       "      <th></th>\n",
       "      <th>White</th>\n",
       "      <th>Pink</th>\n",
       "      <th>Gray</th>\n",
       "      <th>Brown</th>\n",
       "      <th>Buff</th>\n",
       "      <th>Orange</th>\n",
       "      <th>Red</th>\n",
       "      <th>Cinnamon</th>\n",
       "      <th>Yellow</th>\n",
       "    </tr>\n",
       "  </thead>\n",
       "  <tbody>\n",
       "    <tr>\n",
       "      <th>1</th>\n",
       "      <td>38.351254</td>\n",
       "      <td>69.230769</td>\n",
       "      <td>0.0</td>\n",
       "      <td>96.428571</td>\n",
       "      <td>100.0</td>\n",
       "      <td>0.0</td>\n",
       "      <td>0.0</td>\n",
       "      <td>100.0</td>\n",
       "      <td>100.0</td>\n",
       "    </tr>\n",
       "  </tbody>\n",
       "</table>\n",
       "</div>"
      ],
      "text/plain": [
       "       White       Pink  Gray      Brown   Buff  Orange  Red  Cinnamon  Yellow\n",
       "1  38.351254  69.230769   0.0  96.428571  100.0     0.0  0.0     100.0   100.0"
      ]
     },
     "execution_count": 88,
     "metadata": {},
     "output_type": "execute_result"
    }
   ],
   "source": [
    "p_stalk_color_above_ring_percentages = {   \n",
    "                                'White': ((1712/4464)*100),                            \n",
    "                                'Pink': ((1296/1872)*100),\n",
    "                                'Gray': ((0/576)*100),\n",
    "                                'Brown': ((432/448)*100),\n",
    "                                'Buff': ((432/432)*100),\n",
    "                                'Orange': ((0/192)*100),\n",
    "                                'Red': ((0/96)*100),\n",
    "                                'Cinnamon': ((36/36)*100),\n",
    "                                'Yellow': ((8/8)*100) \n",
    "                            }\n",
    "\n",
    "df_p_stalk_color_above_ring_percentages = pd.DataFrame(p_stalk_color_above_ring_percentages, index=[1])\n",
    "df_p_stalk_color_above_ring_percentages"
   ]
  },
  {
   "cell_type": "code",
   "execution_count": 89,
   "metadata": {},
   "outputs": [
    {
     "data": {
      "image/png": "[encoded data removed]",
      "text/plain": [
       "<Figure size 432x288 with 1 Axes>"
      ]
     },
     "metadata": {
      "needs_background": "light"
     },
     "output_type": "display_data"
    }
   ],
   "source": [
    "ax = df_p_stalk_color_above_ring_percentages.plot.bar()\n",
    "ax.set_title('Relative_Frequencies_of_Poisonious_Mushroom_By_Stalk_Color_Above_Ring')\n",
    "ax.set_xlabel('Stalk Color Above Ring')\n",
    "\n",
    "plt.tight_layout()\n",
    "plt.savefig('Mushroom_Class/Data-Visualizations/Relative_Frequencies_of_Poisonious_Mushroom_By_Stalk_Color_Above_Ring.png')\n",
    "plt.show()"
   ]
  },
  {
   "cell_type": "code",
   "execution_count": 90,
   "metadata": {},
   "outputs": [
    {
     "data": {
      "image/png": "[encoded data removed]",
      "text/plain": [
       "<Figure size 432x288 with 1 Axes>"
      ]
     },
     "metadata": {
      "needs_background": "light"
     },
     "output_type": "display_data"
    }
   ],
   "source": [
    "ax= df.groupby('Y')['stalk-color-above-ring'].value_counts().plot.bar()\n",
    "ax.set_title('Value_Counts_Of_Stalk_Color_Above_Ring_By_Target')\n",
    "ax.set_xlabel('Class')\n",
    "ax.set_ylabel('Stalk Color Above Ring')\n",
    "\n",
    "plt.tight_layout()\n",
    "plt.savefig('Mushroom_Class/Data-Visualizations/Value_Counts_Of_Stalk_Color_Above_Ring_By_Target.png')\n",
    "plt.show()"
   ]
  },
  {
   "cell_type": "markdown",
   "metadata": {},
   "source": [
    "***Stalk Color Below Ring***"
   ]
  },
  {
   "cell_type": "code",
   "execution_count": 91,
   "metadata": {},
   "outputs": [
    {
     "data": {
      "text/plain": [
       "Y  stalk-color-below-ring\n",
       "0  white                     2704\n",
       "   gray                       576\n",
       "   pink                       576\n",
       "   orange                     192\n",
       "   red                         96\n",
       "   brown                       64\n",
       "1  white                     1680\n",
       "   pink                      1296\n",
       "   brown                      448\n",
       "   buff                       432\n",
       "   cinnamon                    36\n",
       "   yellow                      24\n",
       "Name: stalk-color-below-ring, dtype: int64"
      ]
     },
     "execution_count": 91,
     "metadata": {},
     "output_type": "execute_result"
    }
   ],
   "source": [
    "df.groupby('Y')['stalk-color-below-ring'].value_counts()"
   ]
  },
  {
   "cell_type": "code",
   "execution_count": 92,
   "metadata": {},
   "outputs": [
    {
     "data": {
      "text/plain": [
       "white       4384\n",
       "pink        1872\n",
       "gray         576\n",
       "brown        512\n",
       "buff         432\n",
       "orange       192\n",
       "red           96\n",
       "cinnamon      36\n",
       "yellow        24\n",
       "Name: stalk-color-below-ring, dtype: int64"
      ]
     },
     "execution_count": 92,
     "metadata": {},
     "output_type": "execute_result"
    }
   ],
   "source": [
    "X['stalk-color-below-ring'].value_counts()"
   ]
  },
  {
   "cell_type": "code",
   "execution_count": 93,
   "metadata": {},
   "outputs": [
    {
     "data": {
      "text/html": [
       "<div>\n",
       "<style scoped>\n",
       "    .dataframe tbody tr th:only-of-type {\n",
       "        vertical-align: middle;\n",
       "    }\n",
       "\n",
       "    .dataframe tbody tr th {\n",
       "        vertical-align: top;\n",
       "    }\n",
       "\n",
       "    .dataframe thead th {\n",
       "        text-align: right;\n",
       "    }\n",
       "</style>\n",
       "<table border=\"1\" class=\"dataframe\">\n",
       "  <thead>\n",
       "    <tr style=\"text-align: right;\">\n",
       "      <th></th>\n",
       "      <th>White</th>\n",
       "      <th>Pink</th>\n",
       "      <th>Gray</th>\n",
       "      <th>Brown</th>\n",
       "      <th>Buff</th>\n",
       "      <th>Orange</th>\n",
       "      <th>Red</th>\n",
       "      <th>Cinnamon</th>\n",
       "      <th>Yellow</th>\n",
       "    </tr>\n",
       "  </thead>\n",
       "  <tbody>\n",
       "    <tr>\n",
       "      <th>1</th>\n",
       "      <td>38.321168</td>\n",
       "      <td>69.230769</td>\n",
       "      <td>0.0</td>\n",
       "      <td>87.5</td>\n",
       "      <td>100.0</td>\n",
       "      <td>0.0</td>\n",
       "      <td>0.0</td>\n",
       "      <td>100.0</td>\n",
       "      <td>100.0</td>\n",
       "    </tr>\n",
       "  </tbody>\n",
       "</table>\n",
       "</div>"
      ],
      "text/plain": [
       "       White       Pink  Gray  Brown   Buff  Orange  Red  Cinnamon  Yellow\n",
       "1  38.321168  69.230769   0.0   87.5  100.0     0.0  0.0     100.0   100.0"
      ]
     },
     "execution_count": 93,
     "metadata": {},
     "output_type": "execute_result"
    }
   ],
   "source": [
    "p_stalk_color_below_ring_percentages = {   \n",
    "                                'White': ((1680/4384)*100),                            \n",
    "                                'Pink': ((1296/1872)*100),\n",
    "                                'Gray': ((0/576)*100),\n",
    "                                'Brown': ((448/512)*100),\n",
    "                                'Buff': ((432/432)*100),\n",
    "                                'Orange': ((0/192)*100),\n",
    "                                'Red': ((0/96)*100),\n",
    "                                'Cinnamon': ((36/36)*100),\n",
    "                                'Yellow': ((24/24)*100) \n",
    "                            }\n",
    "\n",
    "df_p_stalk_color_below_ring_percentages = pd.DataFrame(p_stalk_color_below_ring_percentages, index=[1])\n",
    "df_p_stalk_color_below_ring_percentages"
   ]
  },
  {
   "cell_type": "code",
   "execution_count": 94,
   "metadata": {},
   "outputs": [
    {
     "data": {
      "image/png": "[encoded data removed]",
      "text/plain": [
       "<Figure size 432x288 with 1 Axes>"
      ]
     },
     "metadata": {
      "needs_background": "light"
     },
     "output_type": "display_data"
    }
   ],
   "source": [
    "ax = df_p_stalk_color_below_ring_percentages.plot.bar()\n",
    "ax.set_title('Relative_Frequencies_of_Poisonious_Mushroom_By_Stalk_Color_Below_Ring')\n",
    "ax.set_xlabel('Stalk Color Below Ring')\n",
    "\n",
    "plt.tight_layout()\n",
    "plt.savefig('Mushroom_Class/Data-Visualizations/Relative_Frequencies_of_Poisonious_Mushroom_By_Stalk_Color_Below_Ring.png')\n",
    "plt.show()"
   ]
  },
  {
   "cell_type": "code",
   "execution_count": 95,
   "metadata": {},
   "outputs": [
    {
     "data": {
      "image/png": "[encoded data removed]",
      "text/plain": [
       "<Figure size 432x288 with 1 Axes>"
      ]
     },
     "metadata": {
      "needs_background": "light"
     },
     "output_type": "display_data"
    }
   ],
   "source": [
    "ax= df.groupby('Y')['stalk-color-below-ring'].value_counts().plot.bar()\n",
    "ax.set_title('Value_Counts_Of_Stalk_Color_Below_Ring_By_Target')\n",
    "ax.set_xlabel('Class')\n",
    "ax.set_ylabel('Stalk Color Below Ring')\n",
    "\n",
    "plt.tight_layout()\n",
    "plt.savefig('Mushroom_Class/Data-Visualizations/Value_Counts_Of_Stalk_Color_Below_Ring_By_Target.png')\n",
    "plt.show()"
   ]
  },
  {
   "cell_type": "markdown",
   "metadata": {},
   "source": [
    "***Veil Type***"
   ]
  },
  {
   "cell_type": "code",
   "execution_count": 96,
   "metadata": {},
   "outputs": [
    {
     "data": {
      "text/plain": [
       "Y  veil-type\n",
       "0  partial      4208\n",
       "1  partial      3916\n",
       "Name: veil-type, dtype: int64"
      ]
     },
     "execution_count": 96,
     "metadata": {},
     "output_type": "execute_result"
    }
   ],
   "source": [
    "df.groupby('Y')['veil-type'].value_counts()"
   ]
  },
  {
   "cell_type": "code",
   "execution_count": 97,
   "metadata": {},
   "outputs": [
    {
     "data": {
      "text/plain": [
       "partial    8124\n",
       "Name: veil-type, dtype: int64"
      ]
     },
     "execution_count": 97,
     "metadata": {},
     "output_type": "execute_result"
    }
   ],
   "source": [
    "X['veil-type'].value_counts()"
   ]
  },
  {
   "cell_type": "code",
   "execution_count": 98,
   "metadata": {},
   "outputs": [
    {
     "data": {
      "text/html": [
       "<div>\n",
       "<style scoped>\n",
       "    .dataframe tbody tr th:only-of-type {\n",
       "        vertical-align: middle;\n",
       "    }\n",
       "\n",
       "    .dataframe tbody tr th {\n",
       "        vertical-align: top;\n",
       "    }\n",
       "\n",
       "    .dataframe thead th {\n",
       "        text-align: right;\n",
       "    }\n",
       "</style>\n",
       "<table border=\"1\" class=\"dataframe\">\n",
       "  <thead>\n",
       "    <tr style=\"text-align: right;\">\n",
       "      <th></th>\n",
       "      <th>Partial</th>\n",
       "    </tr>\n",
       "  </thead>\n",
       "  <tbody>\n",
       "    <tr>\n",
       "      <th>1</th>\n",
       "      <td>48.202856</td>\n",
       "    </tr>\n",
       "  </tbody>\n",
       "</table>\n",
       "</div>"
      ],
      "text/plain": [
       "     Partial\n",
       "1  48.202856"
      ]
     },
     "execution_count": 98,
     "metadata": {},
     "output_type": "execute_result"
    }
   ],
   "source": [
    "p_veil_type_percentages = {\n",
    "                               'Partial' : ((3916/8124)*100),\n",
    "                                }\n",
    "df_p_veil_type_percentages  = pd.DataFrame(p_veil_type_percentages , index=[1])\n",
    "df_p_veil_type_percentages"
   ]
  },
  {
   "cell_type": "code",
   "execution_count": 99,
   "metadata": {},
   "outputs": [
    {
     "data": {
      "image/png": "[encoded data removed]",
      "text/plain": [
       "<Figure size 432x288 with 1 Axes>"
      ]
     },
     "metadata": {
      "needs_background": "light"
     },
     "output_type": "display_data"
    }
   ],
   "source": [
    "ax = df_p_veil_type_percentages.plot.bar()\n",
    "ax.set_title('Relative_Frequencies_of_Poisonious_Mushroom_By_Veil_Type')\n",
    "ax.set_xlabel('Veil Type')\n",
    "\n",
    "plt.tight_layout()\n",
    "plt.savefig('Mushroom_Class/Data-Visualizations/Relative_Frequencies_of_Poisonious_Mushroom_By_Veil_Type.png')\n",
    "plt.show()"
   ]
  },
  {
   "cell_type": "code",
   "execution_count": 100,
   "metadata": {},
   "outputs": [
    {
     "data": {
      "image/png": "[encoded data removed]",
      "text/plain": [
       "<Figure size 432x288 with 1 Axes>"
      ]
     },
     "metadata": {
      "needs_background": "light"
     },
     "output_type": "display_data"
    }
   ],
   "source": [
    "ax= df.groupby('Y')['gill-color'].value_counts().plot.bar()\n",
    "ax.set_title('Value_Counts_Of_Veil_Type_By_Target')\n",
    "ax.set_xlabel('Class')\n",
    "ax.set_ylabel('Veil Type')\n",
    "\n",
    "plt.tight_layout()\n",
    "plt.savefig('Mushroom_Class/Data-Visualizations/Value_Counts_Of_Veil_Type_By_Target.png')\n",
    "plt.show()"
   ]
  },
  {
   "cell_type": "markdown",
   "metadata": {},
   "source": [
    "***Veil Color***"
   ]
  },
  {
   "cell_type": "code",
   "execution_count": 101,
   "metadata": {},
   "outputs": [
    {
     "data": {
      "text/plain": [
       "Y  veil-color\n",
       "0  white         4016\n",
       "   brown           96\n",
       "   orange          96\n",
       "1  white         3908\n",
       "   yellow           8\n",
       "Name: veil-color, dtype: int64"
      ]
     },
     "execution_count": 101,
     "metadata": {},
     "output_type": "execute_result"
    }
   ],
   "source": [
    "df.groupby('Y')['veil-color'].value_counts()"
   ]
  },
  {
   "cell_type": "code",
   "execution_count": 102,
   "metadata": {},
   "outputs": [
    {
     "data": {
      "text/plain": [
       "white     7924\n",
       "brown       96\n",
       "orange      96\n",
       "yellow       8\n",
       "Name: veil-color, dtype: int64"
      ]
     },
     "execution_count": 102,
     "metadata": {},
     "output_type": "execute_result"
    }
   ],
   "source": [
    "X['veil-color'].value_counts()"
   ]
  },
  {
   "cell_type": "code",
   "execution_count": 103,
   "metadata": {},
   "outputs": [
    {
     "data": {
      "text/html": [
       "<div>\n",
       "<style scoped>\n",
       "    .dataframe tbody tr th:only-of-type {\n",
       "        vertical-align: middle;\n",
       "    }\n",
       "\n",
       "    .dataframe tbody tr th {\n",
       "        vertical-align: top;\n",
       "    }\n",
       "\n",
       "    .dataframe thead th {\n",
       "        text-align: right;\n",
       "    }\n",
       "</style>\n",
       "<table border=\"1\" class=\"dataframe\">\n",
       "  <thead>\n",
       "    <tr style=\"text-align: right;\">\n",
       "      <th></th>\n",
       "      <th>White</th>\n",
       "      <th>Brown</th>\n",
       "      <th>Orange</th>\n",
       "      <th>Yellow</th>\n",
       "    </tr>\n",
       "  </thead>\n",
       "  <tbody>\n",
       "    <tr>\n",
       "      <th>1</th>\n",
       "      <td>49.318526</td>\n",
       "      <td>0.0</td>\n",
       "      <td>0.0</td>\n",
       "      <td>100.0</td>\n",
       "    </tr>\n",
       "  </tbody>\n",
       "</table>\n",
       "</div>"
      ],
      "text/plain": [
       "       White  Brown  Orange  Yellow\n",
       "1  49.318526    0.0     0.0   100.0"
      ]
     },
     "execution_count": 103,
     "metadata": {},
     "output_type": "execute_result"
    }
   ],
   "source": [
    "p_veil_color_percentages = {   \n",
    "                                'White': ((3908/7924)*100),                            \n",
    "                                'Brown': ((0/96)*100),\n",
    "                                'Orange': ((0/96)*100),\n",
    "                                'Yellow': ((8/8)*100) \n",
    "                            }\n",
    "\n",
    "df_p_veil_color_percentages = pd.DataFrame(p_veil_color_percentages, index=[1])\n",
    "df_p_veil_color_percentages"
   ]
  },
  {
   "cell_type": "code",
   "execution_count": 104,
   "metadata": {},
   "outputs": [
    {
     "data": {
      "image/png": "[encoded data removed]",
      "text/plain": [
       "<Figure size 432x288 with 1 Axes>"
      ]
     },
     "metadata": {
      "needs_background": "light"
     },
     "output_type": "display_data"
    }
   ],
   "source": [
    "ax = df_p_veil_color_percentages.plot.bar()\n",
    "ax.set_title('Relative_Frequencies_of_Poisonious_Mushroom_By_Veil_Color')\n",
    "ax.set_xlabel('Veil Colors')\n",
    "\n",
    "plt.tight_layout()\n",
    "plt.savefig('Mushroom_Class/Data-Visualizations/Relative_Frequencies_of_Poisonious_Mushroom_By_Veil_Color.png')\n",
    "plt.show()"
   ]
  },
  {
   "cell_type": "code",
   "execution_count": 105,
   "metadata": {},
   "outputs": [
    {
     "data": {
      "image/png": "[encoded data removed]",
      "text/plain": [
       "<Figure size 432x288 with 1 Axes>"
      ]
     },
     "metadata": {
      "needs_background": "light"
     },
     "output_type": "display_data"
    }
   ],
   "source": [
    "ax= df.groupby('Y')['veil-color'].value_counts().plot.bar()\n",
    "ax.set_title('Value_Counts_Of_Veil_Color_By_Target')\n",
    "ax.set_xlabel('Class')\n",
    "ax.set_ylabel('Veil Colors')\n",
    "\n",
    "plt.tight_layout()\n",
    "plt.savefig('Mushroom_Class/Data-Visualizations/Value_Counts_Of_Veil_Color_By_Target.png')\n",
    "plt.show()"
   ]
  },
  {
   "cell_type": "markdown",
   "metadata": {},
   "source": [
    "***Ring Number***"
   ]
  },
  {
   "cell_type": "code",
   "execution_count": 106,
   "metadata": {},
   "outputs": [
    {
     "data": {
      "text/plain": [
       "Y  ring-number\n",
       "0  one            3680\n",
       "   two             528\n",
       "1  one            3808\n",
       "   two              72\n",
       "   none             36\n",
       "Name: ring-number, dtype: int64"
      ]
     },
     "execution_count": 106,
     "metadata": {},
     "output_type": "execute_result"
    }
   ],
   "source": [
    "df.groupby('Y')['ring-number'].value_counts()"
   ]
  },
  {
   "cell_type": "code",
   "execution_count": 107,
   "metadata": {},
   "outputs": [
    {
     "data": {
      "text/plain": [
       "one     7488\n",
       "two      600\n",
       "none      36\n",
       "Name: ring-number, dtype: int64"
      ]
     },
     "execution_count": 107,
     "metadata": {},
     "output_type": "execute_result"
    }
   ],
   "source": [
    "X['ring-number'].value_counts()"
   ]
  },
  {
   "cell_type": "code",
   "execution_count": 108,
   "metadata": {},
   "outputs": [
    {
     "data": {
      "text/html": [
       "<div>\n",
       "<style scoped>\n",
       "    .dataframe tbody tr th:only-of-type {\n",
       "        vertical-align: middle;\n",
       "    }\n",
       "\n",
       "    .dataframe tbody tr th {\n",
       "        vertical-align: top;\n",
       "    }\n",
       "\n",
       "    .dataframe thead th {\n",
       "        text-align: right;\n",
       "    }\n",
       "</style>\n",
       "<table border=\"1\" class=\"dataframe\">\n",
       "  <thead>\n",
       "    <tr style=\"text-align: right;\">\n",
       "      <th></th>\n",
       "      <th>Zero</th>\n",
       "      <th>One</th>\n",
       "      <th>Two</th>\n",
       "    </tr>\n",
       "  </thead>\n",
       "  <tbody>\n",
       "    <tr>\n",
       "      <th>1</th>\n",
       "      <td>100.0</td>\n",
       "      <td>50.854701</td>\n",
       "      <td>12.0</td>\n",
       "    </tr>\n",
       "  </tbody>\n",
       "</table>\n",
       "</div>"
      ],
      "text/plain": [
       "    Zero        One   Two\n",
       "1  100.0  50.854701  12.0"
      ]
     },
     "execution_count": 108,
     "metadata": {},
     "output_type": "execute_result"
    }
   ],
   "source": [
    "p_ring_number_percentages = {\n",
    "                               'Zero' : ((36/36)*100),\n",
    "                               'One' : ((3808/7488)*100),\n",
    "                               'Two' : ((72/600)*100),\n",
    "                                }\n",
    "df_p_ring_number_percentages  = pd.DataFrame(p_ring_number_percentages , index=[1])\n",
    "df_p_ring_number_percentages"
   ]
  },
  {
   "cell_type": "code",
   "execution_count": 109,
   "metadata": {},
   "outputs": [
    {
     "data": {
      "image/png": "[encoded data removed]",
      "text/plain": [
       "<Figure size 432x288 with 1 Axes>"
      ]
     },
     "metadata": {
      "needs_background": "light"
     },
     "output_type": "display_data"
    }
   ],
   "source": [
    "ax = df_p_ring_number_percentages.plot.bar()\n",
    "ax.set_title('Relative_Frequencies_of_Poisonious_Mushroom_By_Ring_Number')\n",
    "ax.set_xlabel('Ring Number')\n",
    "\n",
    "plt.tight_layout()\n",
    "plt.savefig('Mushroom_Class/Data-Visualizations/Relative_Frequencies_of_Poisonious_Mushroom_By_Ring_Number.png')\n",
    "plt.show()"
   ]
  },
  {
   "cell_type": "code",
   "execution_count": 110,
   "metadata": {},
   "outputs": [
    {
     "data": {
      "image/png": "[encoded data removed]",
      "text/plain": [
       "<Figure size 432x288 with 1 Axes>"
      ]
     },
     "metadata": {
      "needs_background": "light"
     },
     "output_type": "display_data"
    }
   ],
   "source": [
    "ax= df.groupby('Y')['ring-number'].value_counts().plot.bar()\n",
    "ax.set_title('Value_Counts_Of_Ring_Number_By_Target')\n",
    "ax.set_xlabel('Class')\n",
    "ax.set_ylabel('Ring Number')\n",
    "\n",
    "plt.tight_layout()\n",
    "plt.savefig('Mushroom_Class/Data-Visualizations/Value_Counts_Of_Ring_Number_By_Target.png')\n",
    "plt.show()"
   ]
  },
  {
   "cell_type": "markdown",
   "metadata": {},
   "source": [
    "***Ring Type***"
   ]
  },
  {
   "cell_type": "code",
   "execution_count": 111,
   "metadata": {},
   "outputs": [
    {
     "data": {
      "text/plain": [
       "Y  ring-type \n",
       "0  pendant       3152\n",
       "   evanescent    1008\n",
       "   flaring         48\n",
       "1  evanescent    1768\n",
       "   large         1296\n",
       "   pendant        816\n",
       "   none            36\n",
       "Name: ring-type, dtype: int64"
      ]
     },
     "execution_count": 111,
     "metadata": {},
     "output_type": "execute_result"
    }
   ],
   "source": [
    "df.groupby('Y')['ring-type'].value_counts()"
   ]
  },
  {
   "cell_type": "code",
   "execution_count": 112,
   "metadata": {},
   "outputs": [
    {
     "data": {
      "text/plain": [
       "pendant       3968\n",
       "evanescent    2776\n",
       "large         1296\n",
       "flaring         48\n",
       "none            36\n",
       "Name: ring-type, dtype: int64"
      ]
     },
     "execution_count": 112,
     "metadata": {},
     "output_type": "execute_result"
    }
   ],
   "source": [
    "X['ring-type'].value_counts()"
   ]
  },
  {
   "cell_type": "code",
   "execution_count": 113,
   "metadata": {},
   "outputs": [
    {
     "data": {
      "text/html": [
       "<div>\n",
       "<style scoped>\n",
       "    .dataframe tbody tr th:only-of-type {\n",
       "        vertical-align: middle;\n",
       "    }\n",
       "\n",
       "    .dataframe tbody tr th {\n",
       "        vertical-align: top;\n",
       "    }\n",
       "\n",
       "    .dataframe thead th {\n",
       "        text-align: right;\n",
       "    }\n",
       "</style>\n",
       "<table border=\"1\" class=\"dataframe\">\n",
       "  <thead>\n",
       "    <tr style=\"text-align: right;\">\n",
       "      <th></th>\n",
       "      <th>Pendant</th>\n",
       "      <th>Evanescent</th>\n",
       "      <th>Large</th>\n",
       "      <th>Flaring</th>\n",
       "      <th>None</th>\n",
       "    </tr>\n",
       "  </thead>\n",
       "  <tbody>\n",
       "    <tr>\n",
       "      <th>1</th>\n",
       "      <td>20.564516</td>\n",
       "      <td>63.688761</td>\n",
       "      <td>100.0</td>\n",
       "      <td>0.0</td>\n",
       "      <td>100.0</td>\n",
       "    </tr>\n",
       "  </tbody>\n",
       "</table>\n",
       "</div>"
      ],
      "text/plain": [
       "     Pendant  Evanescent  Large  Flaring   None\n",
       "1  20.564516   63.688761  100.0      0.0  100.0"
      ]
     },
     "execution_count": 113,
     "metadata": {},
     "output_type": "execute_result"
    }
   ],
   "source": [
    "p_ring_type_percentages = {\n",
    "                               'Pendant' : ((816/3968)*100),\n",
    "                               'Evanescent' : ((1768/2776)*100),\n",
    "                               'Large' : ((1296/1296)*100),\n",
    "                               'Flaring' : ((0/48)*100),\n",
    "                               'None' : ((36/36)*100),\n",
    "                            }\n",
    "df_p_ring_type_percentages  = pd.DataFrame(p_ring_type_percentages , index=[1])\n",
    "df_p_ring_type_percentages"
   ]
  },
  {
   "cell_type": "code",
   "execution_count": 114,
   "metadata": {},
   "outputs": [
    {
     "data": {
      "image/png": "[encoded data removed]",
      "text/plain": [
       "<Figure size 432x288 with 1 Axes>"
      ]
     },
     "metadata": {
      "needs_background": "light"
     },
     "output_type": "display_data"
    }
   ],
   "source": [
    "ax = df_p_ring_type_percentages.plot.bar()\n",
    "ax.set_title('Relative_Frequencies_of_Poisonious_Mushroom_By_Ring_Type')\n",
    "ax.set_xlabel('Ring Types')\n",
    "\n",
    "plt.tight_layout()\n",
    "plt.savefig('Mushroom_Class/Data-Visualizations/Relative_Frequencies_of_Poisonious_Mushroom_By_Ring_Type.png')\n",
    "plt.show()"
   ]
  },
  {
   "cell_type": "code",
   "execution_count": 115,
   "metadata": {},
   "outputs": [
    {
     "data": {
      "image/png": "[encoded data removed]",
      "text/plain": [
       "<Figure size 432x288 with 1 Axes>"
      ]
     },
     "metadata": {
      "needs_background": "light"
     },
     "output_type": "display_data"
    }
   ],
   "source": [
    "ax= df.groupby('Y')['ring-type'].value_counts().plot.bar()\n",
    "ax.set_title('Value_Counts_Of_Ring_Type_By_Target')\n",
    "ax.set_xlabel('Class')\n",
    "ax.set_ylabel('Ring Type')\n",
    "\n",
    "plt.tight_layout()\n",
    "plt.savefig('Mushroom_Class/Data-Visualizations/Value_Counts_Of_Ring_Type_By_Target.png')\n",
    "plt.show()"
   ]
  },
  {
   "cell_type": "markdown",
   "metadata": {},
   "source": [
    "***Spore Print Color***"
   ]
  },
  {
   "cell_type": "code",
   "execution_count": 116,
   "metadata": {},
   "outputs": [
    {
     "data": {
      "text/plain": [
       "Y  spore-print-color\n",
       "0  brown                1744\n",
       "   black                1648\n",
       "   white                 576\n",
       "   buff                   48\n",
       "   chocolate              48\n",
       "   orange                 48\n",
       "   purple                 48\n",
       "   yellow                 48\n",
       "1  white                1812\n",
       "   chocolate            1584\n",
       "   black                 224\n",
       "   brown                 224\n",
       "   green                  72\n",
       "Name: spore-print-color, dtype: int64"
      ]
     },
     "execution_count": 116,
     "metadata": {},
     "output_type": "execute_result"
    }
   ],
   "source": [
    "df.groupby('Y')['spore-print-color'].value_counts()"
   ]
  },
  {
   "cell_type": "code",
   "execution_count": 117,
   "metadata": {},
   "outputs": [
    {
     "data": {
      "text/plain": [
       "white        2388\n",
       "brown        1968\n",
       "black        1872\n",
       "chocolate    1632\n",
       "green          72\n",
       "buff           48\n",
       "purple         48\n",
       "orange         48\n",
       "yellow         48\n",
       "Name: spore-print-color, dtype: int64"
      ]
     },
     "execution_count": 117,
     "metadata": {},
     "output_type": "execute_result"
    }
   ],
   "source": [
    "X['spore-print-color'].value_counts()"
   ]
  },
  {
   "cell_type": "code",
   "execution_count": 118,
   "metadata": {},
   "outputs": [
    {
     "data": {
      "text/html": [
       "<div>\n",
       "<style scoped>\n",
       "    .dataframe tbody tr th:only-of-type {\n",
       "        vertical-align: middle;\n",
       "    }\n",
       "\n",
       "    .dataframe tbody tr th {\n",
       "        vertical-align: top;\n",
       "    }\n",
       "\n",
       "    .dataframe thead th {\n",
       "        text-align: right;\n",
       "    }\n",
       "</style>\n",
       "<table border=\"1\" class=\"dataframe\">\n",
       "  <thead>\n",
       "    <tr style=\"text-align: right;\">\n",
       "      <th></th>\n",
       "      <th>White</th>\n",
       "      <th>Brown</th>\n",
       "      <th>Black</th>\n",
       "      <th>Chocolate</th>\n",
       "      <th>Green</th>\n",
       "      <th>Purple</th>\n",
       "      <th>Buff</th>\n",
       "      <th>Orange</th>\n",
       "      <th>Yellow</th>\n",
       "    </tr>\n",
       "  </thead>\n",
       "  <tbody>\n",
       "    <tr>\n",
       "      <th>1</th>\n",
       "      <td>75.879397</td>\n",
       "      <td>11.382114</td>\n",
       "      <td>11.965812</td>\n",
       "      <td>97.058824</td>\n",
       "      <td>100.0</td>\n",
       "      <td>0.0</td>\n",
       "      <td>0.0</td>\n",
       "      <td>0.0</td>\n",
       "      <td>0.0</td>\n",
       "    </tr>\n",
       "  </tbody>\n",
       "</table>\n",
       "</div>"
      ],
      "text/plain": [
       "       White      Brown      Black  Chocolate  Green  Purple  Buff  Orange  \\\n",
       "1  75.879397  11.382114  11.965812  97.058824  100.0     0.0   0.0     0.0   \n",
       "\n",
       "   Yellow  \n",
       "1     0.0  "
      ]
     },
     "execution_count": 118,
     "metadata": {},
     "output_type": "execute_result"
    }
   ],
   "source": [
    "p_spore_print_color_percentages = {\n",
    "    \n",
    "                                    'White': ((1812/2388)*100),\n",
    "                                    'Brown': ((224/1968)*100),\n",
    "                                    'Black': ((224/1872)*100),\n",
    "                                    'Chocolate': ((1584/1632)*100),\n",
    "                                    'Green': ((72/72)*100),\n",
    "                                    'Purple': ((0/48)*100),\n",
    "                                    'Buff': ((0/48)*100),\n",
    "                                    'Orange': ((0/48)*100),\n",
    "                                    'Yellow': ((0/48)*100)                           \n",
    "\n",
    "                                    }\n",
    "\n",
    "df_p_spore_print_color_percentages = pd.DataFrame(p_spore_print_color_percentages, index=[1])\n",
    "df_p_spore_print_color_percentages"
   ]
  },
  {
   "cell_type": "code",
   "execution_count": 119,
   "metadata": {},
   "outputs": [
    {
     "data": {
      "image/png": "[encoded data removed]",
      "text/plain": [
       "<Figure size 432x288 with 1 Axes>"
      ]
     },
     "metadata": {
      "needs_background": "light"
     },
     "output_type": "display_data"
    }
   ],
   "source": [
    "ax = df_p_spore_print_color_percentages.plot.bar()\n",
    "ax.set_title('Relative_Frequencies_of_Poisonious_Mushroom_By_Spore_Print_Colors')\n",
    "ax.set_xlabel('Spore Print Colors')\n",
    "\n",
    "plt.tight_layout()\n",
    "plt.savefig('Mushroom_Class/Data-Visualizations/Relative_Frequencies_of_Poisonious_Mushroom_By_Spore_Print_Colors.png')\n",
    "plt.show()"
   ]
  },
  {
   "cell_type": "code",
   "execution_count": 120,
   "metadata": {},
   "outputs": [
    {
     "data": {
      "image/png": "[encoded data removed]",
      "text/plain": [
       "<Figure size 432x288 with 1 Axes>"
      ]
     },
     "metadata": {
      "needs_background": "light"
     },
     "output_type": "display_data"
    }
   ],
   "source": [
    "ax= df.groupby('Y')['spore-print-color'].value_counts().plot.bar()\n",
    "ax.set_title('Value_Counts_Of_Spore_Print_Colors_By_Target')\n",
    "ax.set_xlabel('Class')\n",
    "ax.set_ylabel('Spore Print Colors')\n",
    "\n",
    "plt.tight_layout()\n",
    "plt.savefig('Mushroom_Class/Data-Visualizations/Value_Counts_Of_Spore_Print_Colors_By_Target.png')\n",
    "plt.show()"
   ]
  },
  {
   "cell_type": "markdown",
   "metadata": {},
   "source": [
    "***Population***"
   ]
  },
  {
   "cell_type": "code",
   "execution_count": 121,
   "metadata": {},
   "outputs": [
    {
     "data": {
      "text/plain": [
       "Y  population\n",
       "0  several       1192\n",
       "   solitary      1064\n",
       "   scattered      880\n",
       "   numerous       400\n",
       "   abundant       384\n",
       "   clustered      288\n",
       "1  several       2848\n",
       "   solitary       648\n",
       "   scattered      368\n",
       "   clustered       52\n",
       "Name: population, dtype: int64"
      ]
     },
     "execution_count": 121,
     "metadata": {},
     "output_type": "execute_result"
    }
   ],
   "source": [
    "df.groupby('Y')['population'].value_counts()"
   ]
  },
  {
   "cell_type": "code",
   "execution_count": 122,
   "metadata": {},
   "outputs": [
    {
     "data": {
      "text/plain": [
       "several      4040\n",
       "solitary     1712\n",
       "scattered    1248\n",
       "numerous      400\n",
       "abundant      384\n",
       "clustered     340\n",
       "Name: population, dtype: int64"
      ]
     },
     "execution_count": 122,
     "metadata": {},
     "output_type": "execute_result"
    }
   ],
   "source": [
    "X['population'].value_counts()"
   ]
  },
  {
   "cell_type": "code",
   "execution_count": 123,
   "metadata": {},
   "outputs": [
    {
     "data": {
      "text/html": [
       "<div>\n",
       "<style scoped>\n",
       "    .dataframe tbody tr th:only-of-type {\n",
       "        vertical-align: middle;\n",
       "    }\n",
       "\n",
       "    .dataframe tbody tr th {\n",
       "        vertical-align: top;\n",
       "    }\n",
       "\n",
       "    .dataframe thead th {\n",
       "        text-align: right;\n",
       "    }\n",
       "</style>\n",
       "<table border=\"1\" class=\"dataframe\">\n",
       "  <thead>\n",
       "    <tr style=\"text-align: right;\">\n",
       "      <th></th>\n",
       "      <th>Several</th>\n",
       "      <th>Solitary</th>\n",
       "      <th>Scattered</th>\n",
       "      <th>Numerous</th>\n",
       "      <th>Abundant</th>\n",
       "      <th>Clustered</th>\n",
       "    </tr>\n",
       "  </thead>\n",
       "  <tbody>\n",
       "    <tr>\n",
       "      <th>1</th>\n",
       "      <td>70.49505</td>\n",
       "      <td>37.850467</td>\n",
       "      <td>29.487179</td>\n",
       "      <td>0.0</td>\n",
       "      <td>0.0</td>\n",
       "      <td>15.294118</td>\n",
       "    </tr>\n",
       "  </tbody>\n",
       "</table>\n",
       "</div>"
      ],
      "text/plain": [
       "    Several   Solitary  Scattered  Numerous  Abundant  Clustered\n",
       "1  70.49505  37.850467  29.487179       0.0       0.0  15.294118"
      ]
     },
     "execution_count": 123,
     "metadata": {},
     "output_type": "execute_result"
    }
   ],
   "source": [
    "p_population_percentages = {\n",
    "                               \n",
    "                               'Several' : ((2848/4040)*100),\n",
    "                               'Solitary' : ((648/1712)*100),\n",
    "                               'Scattered' : ((368/1248)*100),\n",
    "                               'Numerous' : ((0/400)*100),\n",
    "                               'Abundant' : ((0/384)*100),\n",
    "                               'Clustered' : ((52/340)*100)\n",
    "                             \n",
    "                            }\n",
    "\n",
    "df_p_population_percentages  = pd.DataFrame(p_population_percentages , index=[1])\n",
    "df_p_population_percentages"
   ]
  },
  {
   "cell_type": "code",
   "execution_count": 124,
   "metadata": {},
   "outputs": [
    {
     "data": {
      "image/png": "[encoded data removed]",
      "text/plain": [
       "<Figure size 432x288 with 1 Axes>"
      ]
     },
     "metadata": {
      "needs_background": "light"
     },
     "output_type": "display_data"
    }
   ],
   "source": [
    "ax = df_p_population_percentages.plot.bar()\n",
    "ax.set_title('Relative_Frequencies_of_Poisonious_Mushroom_By_Population')\n",
    "ax.set_xlabel('Population Types')\n",
    "\n",
    "plt.tight_layout()\n",
    "plt.savefig('Mushroom_Class/Data-Visualizations/Relative_Frequencies_of_Poisonious_Mushroom_By_Population.png')\n",
    "plt.show()"
   ]
  },
  {
   "cell_type": "code",
   "execution_count": 125,
   "metadata": {},
   "outputs": [
    {
     "data": {
      "image/png": "[encoded data removed]",
      "text/plain": [
       "<Figure size 432x288 with 1 Axes>"
      ]
     },
     "metadata": {
      "needs_background": "light"
     },
     "output_type": "display_data"
    }
   ],
   "source": [
    "ax= df.groupby('Y')['population'].value_counts().plot.bar()\n",
    "ax.set_title('Value_Counts_Of_Population_By_Target')\n",
    "ax.set_xlabel('Class')\n",
    "ax.set_ylabel('Population Types')\n",
    "\n",
    "plt.tight_layout()\n",
    "plt.savefig('Mushroom_Class/Data-Visualizations/Value_Counts_Of_Population_By_Target.png')\n",
    "plt.show()"
   ]
  },
  {
   "cell_type": "markdown",
   "metadata": {},
   "source": [
    "***Habitat***"
   ]
  },
  {
   "cell_type": "code",
   "execution_count": 126,
   "metadata": {},
   "outputs": [
    {
     "data": {
      "text/plain": [
       "Y  habitat\n",
       "0  woods      1880\n",
       "   grasses    1408\n",
       "   meadows     256\n",
       "   leaves      240\n",
       "   waste       192\n",
       "   paths       136\n",
       "   urban        96\n",
       "1  woods      1268\n",
       "   paths      1008\n",
       "   grasses     740\n",
       "   leaves      592\n",
       "   urban       272\n",
       "   meadows      36\n",
       "Name: habitat, dtype: int64"
      ]
     },
     "execution_count": 126,
     "metadata": {},
     "output_type": "execute_result"
    }
   ],
   "source": [
    "df.groupby('Y')['habitat'].value_counts()"
   ]
  },
  {
   "cell_type": "code",
   "execution_count": 127,
   "metadata": {},
   "outputs": [
    {
     "data": {
      "text/plain": [
       "woods      3148\n",
       "grasses    2148\n",
       "paths      1144\n",
       "leaves      832\n",
       "urban       368\n",
       "meadows     292\n",
       "waste       192\n",
       "Name: habitat, dtype: int64"
      ]
     },
     "execution_count": 127,
     "metadata": {},
     "output_type": "execute_result"
    }
   ],
   "source": [
    "X['habitat'].value_counts()"
   ]
  },
  {
   "cell_type": "code",
   "execution_count": 128,
   "metadata": {},
   "outputs": [
    {
     "data": {
      "text/html": [
       "<div>\n",
       "<style scoped>\n",
       "    .dataframe tbody tr th:only-of-type {\n",
       "        vertical-align: middle;\n",
       "    }\n",
       "\n",
       "    .dataframe tbody tr th {\n",
       "        vertical-align: top;\n",
       "    }\n",
       "\n",
       "    .dataframe thead th {\n",
       "        text-align: right;\n",
       "    }\n",
       "</style>\n",
       "<table border=\"1\" class=\"dataframe\">\n",
       "  <thead>\n",
       "    <tr style=\"text-align: right;\">\n",
       "      <th></th>\n",
       "      <th>Woods</th>\n",
       "      <th>Grasses</th>\n",
       "      <th>Paths</th>\n",
       "      <th>Leaves</th>\n",
       "      <th>Urban</th>\n",
       "      <th>Meadows</th>\n",
       "      <th>Waste</th>\n",
       "    </tr>\n",
       "  </thead>\n",
       "  <tbody>\n",
       "    <tr>\n",
       "      <th>1</th>\n",
       "      <td>40.279543</td>\n",
       "      <td>34.450652</td>\n",
       "      <td>88.111888</td>\n",
       "      <td>71.153846</td>\n",
       "      <td>73.913043</td>\n",
       "      <td>12.328767</td>\n",
       "      <td>0.0</td>\n",
       "    </tr>\n",
       "  </tbody>\n",
       "</table>\n",
       "</div>"
      ],
      "text/plain": [
       "       Woods    Grasses      Paths     Leaves      Urban    Meadows  Waste\n",
       "1  40.279543  34.450652  88.111888  71.153846  73.913043  12.328767    0.0"
      ]
     },
     "execution_count": 128,
     "metadata": {},
     "output_type": "execute_result"
    }
   ],
   "source": [
    "p_habitat_percentages = {\n",
    " \n",
    "                                'Woods' : ((1268/3148)*100),\n",
    "                                'Grasses' : ((740/2148)*100),\n",
    "                                'Paths' : ((1008/1144)*100),\n",
    "                                'Leaves' : ((592/832)*100),\n",
    "                                'Urban' : ((272/368)*100),\n",
    "                                'Meadows' : ((36/292)*100),\n",
    "                                'Waste' : ((0/192)*100)\n",
    "\n",
    "    \n",
    "                            }\n",
    "\n",
    "df_p_habitat_percentages  = pd.DataFrame(p_habitat_percentages , index=[1])\n",
    "df_p_habitat_percentages"
   ]
  },
  {
   "cell_type": "code",
   "execution_count": 129,
   "metadata": {},
   "outputs": [
    {
     "data": {
      "image/png": "[encoded data removed]",
      "text/plain": [
       "<Figure size 432x288 with 1 Axes>"
      ]
     },
     "metadata": {
      "needs_background": "light"
     },
     "output_type": "display_data"
    }
   ],
   "source": [
    "ax = df_p_habitat_percentages.plot.bar()\n",
    "ax.set_title('Relative_Frequencies_of_Poisonious_Mushroom_By_Habitat')\n",
    "ax.set_xlabel('Habitat Types')\n",
    "\n",
    "plt.tight_layout()\n",
    "plt.savefig('Mushroom_Class/Data-Visualizations/Relative_Frequencies_of_Poisonious_Mushroom_By_Habitat.png')\n",
    "plt.show()"
   ]
  },
  {
   "cell_type": "code",
   "execution_count": 130,
   "metadata": {},
   "outputs": [
    {
     "data": {
      "image/png": "[encoded data removed]",
      "text/plain": [
       "<Figure size 432x288 with 1 Axes>"
      ]
     },
     "metadata": {
      "needs_background": "light"
     },
     "output_type": "display_data"
    }
   ],
   "source": [
    "ax= df.groupby('Y')['habitat'].value_counts().plot.bar()\n",
    "ax.set_title('Value_Counts_Of_Habitat_By_Target')\n",
    "ax.set_xlabel('Class')\n",
    "ax.set_ylabel('Habitat')\n",
    "\n",
    "plt.tight_layout()\n",
    "plt.savefig('Mushroom_Class/Data-Visualizations/Value_Counts_Of_Habitat_By_Target.png')\n",
    "plt.show()"
   ]
  },
  {
   "cell_type": "markdown",
   "metadata": {},
   "source": [
    "***FEATURE ENGINEERING***"
   ]
  },
  {
   "cell_type": "code",
   "execution_count": 131,
   "metadata": {
    "scrolled": false
   },
   "outputs": [
    {
     "data": {
      "text/html": [
       "<div>\n",
       "<style scoped>\n",
       "    .dataframe tbody tr th:only-of-type {\n",
       "        vertical-align: middle;\n",
       "    }\n",
       "\n",
       "    .dataframe tbody tr th {\n",
       "        vertical-align: top;\n",
       "    }\n",
       "\n",
       "    .dataframe thead th {\n",
       "        text-align: right;\n",
       "    }\n",
       "</style>\n",
       "<table border=\"1\" class=\"dataframe\">\n",
       "  <thead>\n",
       "    <tr style=\"text-align: right;\">\n",
       "      <th></th>\n",
       "      <th>cap-shape</th>\n",
       "      <th>cap-surface</th>\n",
       "      <th>cap-color</th>\n",
       "      <th>bruises</th>\n",
       "      <th>odor</th>\n",
       "      <th>gill-attachment</th>\n",
       "      <th>gill-spacing</th>\n",
       "      <th>gill-size</th>\n",
       "      <th>gill-color</th>\n",
       "      <th>stalk-shape</th>\n",
       "      <th>stalk-root</th>\n",
       "      <th>stalk-surface-above-ring</th>\n",
       "      <th>stalk-surface-below-ring</th>\n",
       "      <th>stalk-color-above-ring</th>\n",
       "      <th>stalk-color-below-ring</th>\n",
       "      <th>veil-type</th>\n",
       "      <th>veil-color</th>\n",
       "      <th>ring-number</th>\n",
       "      <th>ring-type</th>\n",
       "      <th>spore-print-color</th>\n",
       "      <th>population</th>\n",
       "      <th>habitat</th>\n",
       "      <th>stalk-root-missing</th>\n",
       "    </tr>\n",
       "  </thead>\n",
       "  <tbody>\n",
       "    <tr>\n",
       "      <th>0</th>\n",
       "      <td>convex</td>\n",
       "      <td>smooth</td>\n",
       "      <td>brown</td>\n",
       "      <td>True</td>\n",
       "      <td>pungent</td>\n",
       "      <td>free</td>\n",
       "      <td>close</td>\n",
       "      <td>narrow</td>\n",
       "      <td>black</td>\n",
       "      <td>enlarging</td>\n",
       "      <td>equal</td>\n",
       "      <td>smooth</td>\n",
       "      <td>smooth</td>\n",
       "      <td>white</td>\n",
       "      <td>white</td>\n",
       "      <td>partial</td>\n",
       "      <td>white</td>\n",
       "      <td>one</td>\n",
       "      <td>pendant</td>\n",
       "      <td>black</td>\n",
       "      <td>scattered</td>\n",
       "      <td>urban</td>\n",
       "      <td>0</td>\n",
       "    </tr>\n",
       "    <tr>\n",
       "      <th>1</th>\n",
       "      <td>convex</td>\n",
       "      <td>smooth</td>\n",
       "      <td>yellow</td>\n",
       "      <td>True</td>\n",
       "      <td>almond</td>\n",
       "      <td>free</td>\n",
       "      <td>close</td>\n",
       "      <td>broad</td>\n",
       "      <td>black</td>\n",
       "      <td>enlarging</td>\n",
       "      <td>club</td>\n",
       "      <td>smooth</td>\n",
       "      <td>smooth</td>\n",
       "      <td>white</td>\n",
       "      <td>white</td>\n",
       "      <td>partial</td>\n",
       "      <td>white</td>\n",
       "      <td>one</td>\n",
       "      <td>pendant</td>\n",
       "      <td>brown</td>\n",
       "      <td>numerous</td>\n",
       "      <td>grasses</td>\n",
       "      <td>0</td>\n",
       "    </tr>\n",
       "    <tr>\n",
       "      <th>2</th>\n",
       "      <td>bell</td>\n",
       "      <td>smooth</td>\n",
       "      <td>white</td>\n",
       "      <td>True</td>\n",
       "      <td>anise</td>\n",
       "      <td>free</td>\n",
       "      <td>close</td>\n",
       "      <td>broad</td>\n",
       "      <td>brown</td>\n",
       "      <td>enlarging</td>\n",
       "      <td>club</td>\n",
       "      <td>smooth</td>\n",
       "      <td>smooth</td>\n",
       "      <td>white</td>\n",
       "      <td>white</td>\n",
       "      <td>partial</td>\n",
       "      <td>white</td>\n",
       "      <td>one</td>\n",
       "      <td>pendant</td>\n",
       "      <td>brown</td>\n",
       "      <td>numerous</td>\n",
       "      <td>meadows</td>\n",
       "      <td>0</td>\n",
       "    </tr>\n",
       "    <tr>\n",
       "      <th>3</th>\n",
       "      <td>convex</td>\n",
       "      <td>scaly</td>\n",
       "      <td>white</td>\n",
       "      <td>True</td>\n",
       "      <td>pungent</td>\n",
       "      <td>free</td>\n",
       "      <td>close</td>\n",
       "      <td>narrow</td>\n",
       "      <td>brown</td>\n",
       "      <td>enlarging</td>\n",
       "      <td>equal</td>\n",
       "      <td>smooth</td>\n",
       "      <td>smooth</td>\n",
       "      <td>white</td>\n",
       "      <td>white</td>\n",
       "      <td>partial</td>\n",
       "      <td>white</td>\n",
       "      <td>one</td>\n",
       "      <td>pendant</td>\n",
       "      <td>black</td>\n",
       "      <td>scattered</td>\n",
       "      <td>urban</td>\n",
       "      <td>0</td>\n",
       "    </tr>\n",
       "    <tr>\n",
       "      <th>4</th>\n",
       "      <td>convex</td>\n",
       "      <td>smooth</td>\n",
       "      <td>gray</td>\n",
       "      <td>False</td>\n",
       "      <td>none</td>\n",
       "      <td>free</td>\n",
       "      <td>crowded</td>\n",
       "      <td>broad</td>\n",
       "      <td>black</td>\n",
       "      <td>tapering</td>\n",
       "      <td>equal</td>\n",
       "      <td>smooth</td>\n",
       "      <td>smooth</td>\n",
       "      <td>white</td>\n",
       "      <td>white</td>\n",
       "      <td>partial</td>\n",
       "      <td>white</td>\n",
       "      <td>one</td>\n",
       "      <td>evanescent</td>\n",
       "      <td>brown</td>\n",
       "      <td>abundant</td>\n",
       "      <td>grasses</td>\n",
       "      <td>0</td>\n",
       "    </tr>\n",
       "  </tbody>\n",
       "</table>\n",
       "</div>"
      ],
      "text/plain": [
       "  cap-shape cap-surface cap-color bruises     odor gill-attachment  \\\n",
       "0    convex      smooth     brown    True  pungent            free   \n",
       "1    convex      smooth    yellow    True   almond            free   \n",
       "2      bell      smooth     white    True    anise            free   \n",
       "3    convex       scaly     white    True  pungent            free   \n",
       "4    convex      smooth      gray   False     none            free   \n",
       "\n",
       "  gill-spacing gill-size gill-color stalk-shape stalk-root  \\\n",
       "0        close    narrow      black   enlarging      equal   \n",
       "1        close     broad      black   enlarging       club   \n",
       "2        close     broad      brown   enlarging       club   \n",
       "3        close    narrow      brown   enlarging      equal   \n",
       "4      crowded     broad      black    tapering      equal   \n",
       "\n",
       "  stalk-surface-above-ring stalk-surface-below-ring stalk-color-above-ring  \\\n",
       "0                   smooth                   smooth                  white   \n",
       "1                   smooth                   smooth                  white   \n",
       "2                   smooth                   smooth                  white   \n",
       "3                   smooth                   smooth                  white   \n",
       "4                   smooth                   smooth                  white   \n",
       "\n",
       "  stalk-color-below-ring veil-type veil-color ring-number   ring-type  \\\n",
       "0                  white   partial      white         one     pendant   \n",
       "1                  white   partial      white         one     pendant   \n",
       "2                  white   partial      white         one     pendant   \n",
       "3                  white   partial      white         one     pendant   \n",
       "4                  white   partial      white         one  evanescent   \n",
       "\n",
       "  spore-print-color population  habitat  stalk-root-missing  \n",
       "0             black  scattered    urban                   0  \n",
       "1             brown   numerous  grasses                   0  \n",
       "2             brown   numerous  meadows                   0  \n",
       "3             black  scattered    urban                   0  \n",
       "4             brown   abundant  grasses                   0  "
      ]
     },
     "execution_count": 131,
     "metadata": {},
     "output_type": "execute_result"
    }
   ],
   "source": [
    "X.head()"
   ]
  },
  {
   "cell_type": "code",
   "execution_count": 178,
   "metadata": {
    "scrolled": true
   },
   "outputs": [
    {
     "data": {
      "text/plain": [
       "Index(['cap-shape_conical', 'cap-shape_convex', 'cap-shape_flat',\n",
       "       'cap-shape_knobbed', 'cap-shape_sunken', 'cap-surface_grooves',\n",
       "       'cap-surface_scaly', 'cap-surface_smooth', 'cap-color_buff',\n",
       "       'cap-color_cinnamon', 'cap-color_gray', 'cap-color_green',\n",
       "       'cap-color_pink', 'cap-color_purple', 'cap-color_red',\n",
       "       'cap-color_white', 'cap-color_yellow', 'bruises_True', 'odor_anise',\n",
       "       'odor_creosote', 'odor_fishy', 'odor_foul', 'odor_musty', 'odor_none',\n",
       "       'odor_pungent', 'odor_spicy', 'gill-attachment_free',\n",
       "       'gill-spacing_crowded', 'gill-size_narrow', 'gill-color_brown',\n",
       "       'gill-color_buff', 'gill-color_chocolate', 'gill-color_gray',\n",
       "       'gill-color_green', 'gill-color_orange', 'gill-color_pink',\n",
       "       'gill-color_purple', 'gill-color_red', 'gill-color_white',\n",
       "       'gill-color_yellow', 'stalk-shape_tapering', 'stalk-root_club',\n",
       "       'stalk-root_equal', 'stalk-root_rooted',\n",
       "       'stalk-surface-above-ring_scaly', 'stalk-surface-above-ring_silky',\n",
       "       'stalk-surface-above-ring_smooth', 'stalk-surface-below-ring_scaly',\n",
       "       'stalk-surface-below-ring_silky', 'stalk-surface-below-ring_smooth',\n",
       "       'stalk-color-above-ring_buff', 'stalk-color-above-ring_cinnamon',\n",
       "       'stalk-color-above-ring_gray', 'stalk-color-above-ring_orange',\n",
       "       'stalk-color-above-ring_pink', 'stalk-color-above-ring_red',\n",
       "       'stalk-color-above-ring_white', 'stalk-color-above-ring_yellow',\n",
       "       'stalk-color-below-ring_buff', 'stalk-color-below-ring_cinnamon',\n",
       "       'stalk-color-below-ring_gray', 'stalk-color-below-ring_orange',\n",
       "       'stalk-color-below-ring_pink', 'stalk-color-below-ring_red',\n",
       "       'stalk-color-below-ring_white', 'stalk-color-below-ring_yellow',\n",
       "       'veil-color_orange', 'veil-color_white', 'veil-color_yellow',\n",
       "       'ring-number_one', 'ring-number_two', 'ring-type_flaring',\n",
       "       'ring-type_large', 'ring-type_none', 'ring-type_pendant',\n",
       "       'spore-print-color_brown', 'spore-print-color_buff',\n",
       "       'spore-print-color_chocolate', 'spore-print-color_green',\n",
       "       'spore-print-color_orange', 'spore-print-color_purple',\n",
       "       'spore-print-color_white', 'spore-print-color_yellow',\n",
       "       'population_clustered', 'population_numerous', 'population_scattered',\n",
       "       'population_several', 'population_solitary', 'habitat_leaves',\n",
       "       'habitat_meadows', 'habitat_paths', 'habitat_urban', 'habitat_waste',\n",
       "       'habitat_woods', 'stalk-root-missing_1'],\n",
       "      dtype='object')"
      ]
     },
     "execution_count": 178,
     "metadata": {},
     "output_type": "execute_result"
    }
   ],
   "source": [
    "X.columns"
   ]
  },
  {
   "cell_type": "code",
   "execution_count": 133,
   "metadata": {},
   "outputs": [
    {
     "data": {
      "text/plain": [
       "(8124, 24)"
      ]
     },
     "execution_count": 133,
     "metadata": {},
     "output_type": "execute_result"
    }
   ],
   "source": [
    "df.shape"
   ]
  },
  {
   "cell_type": "code",
   "execution_count": 134,
   "metadata": {},
   "outputs": [
    {
     "data": {
      "text/plain": [
       "Y                           object\n",
       "cap-shape                   object\n",
       "cap-surface                 object\n",
       "cap-color                   object\n",
       "bruises                     object\n",
       "odor                        object\n",
       "gill-attachment             object\n",
       "gill-spacing                object\n",
       "gill-size                   object\n",
       "gill-color                  object\n",
       "stalk-shape                 object\n",
       "stalk-root                  object\n",
       "stalk-surface-above-ring    object\n",
       "stalk-surface-below-ring    object\n",
       "stalk-color-above-ring      object\n",
       "stalk-color-below-ring      object\n",
       "veil-type                   object\n",
       "veil-color                  object\n",
       "ring-number                 object\n",
       "ring-type                   object\n",
       "spore-print-color           object\n",
       "population                  object\n",
       "habitat                     object\n",
       "stalk-root-missing           int64\n",
       "dtype: object"
      ]
     },
     "execution_count": 134,
     "metadata": {},
     "output_type": "execute_result"
    }
   ],
   "source": [
    "df.dtypes"
   ]
  },
  {
   "cell_type": "code",
   "execution_count": 135,
   "metadata": {},
   "outputs": [
    {
     "data": {
      "text/plain": [
       "0    4208\n",
       "1    3916\n",
       "Name: Y, dtype: int64"
      ]
     },
     "execution_count": 135,
     "metadata": {},
     "output_type": "execute_result"
    }
   ],
   "source": [
    "df['Y'].value_counts()"
   ]
  },
  {
   "cell_type": "code",
   "execution_count": 136,
   "metadata": {},
   "outputs": [],
   "source": [
    "df = pd.get_dummies(df, columns = ['cap-shape', 'cap-surface', 'cap-color', 'bruises', 'odor',\n",
    "       'gill-attachment', 'gill-spacing', 'gill-size', 'gill-color',\n",
    "       'stalk-shape', 'stalk-root', 'stalk-surface-above-ring',\n",
    "       'stalk-surface-below-ring', 'stalk-color-above-ring',\n",
    "       'stalk-color-below-ring', 'veil-type', 'veil-color', 'ring-number',\n",
    "       'ring-type', 'spore-print-color', 'population', 'habitat','stalk-root-missing'], drop_first = True)"
   ]
  },
  {
   "cell_type": "code",
   "execution_count": null,
   "metadata": {},
   "outputs": [],
   "source": []
  },
  {
   "cell_type": "code",
   "execution_count": null,
   "metadata": {},
   "outputs": [],
   "source": []
  },
  {
   "cell_type": "markdown",
   "metadata": {},
   "source": [
    "***Splitting Data Into X,Y (Features, Target) & Performing A Train-Test Split***"
   ]
  },
  {
   "cell_type": "code",
   "execution_count": 137,
   "metadata": {},
   "outputs": [],
   "source": [
    "X = df.drop('Y', axis=1)\n",
    "y = df['Y']\n",
    "X_train, X_test, y_train, y_test = train_test_split(X, y, random_state=2021)"
   ]
  },
  {
   "cell_type": "code",
   "execution_count": 138,
   "metadata": {
    "scrolled": true
   },
   "outputs": [
    {
     "data": {
      "text/plain": [
       "Index(['cap-shape_conical', 'cap-shape_convex', 'cap-shape_flat',\n",
       "       'cap-shape_knobbed', 'cap-shape_sunken', 'cap-surface_grooves',\n",
       "       'cap-surface_scaly', 'cap-surface_smooth', 'cap-color_buff',\n",
       "       'cap-color_cinnamon', 'cap-color_gray', 'cap-color_green',\n",
       "       'cap-color_pink', 'cap-color_purple', 'cap-color_red',\n",
       "       'cap-color_white', 'cap-color_yellow', 'bruises_True', 'odor_anise',\n",
       "       'odor_creosote', 'odor_fishy', 'odor_foul', 'odor_musty', 'odor_none',\n",
       "       'odor_pungent', 'odor_spicy', 'gill-attachment_free',\n",
       "       'gill-spacing_crowded', 'gill-size_narrow', 'gill-color_brown',\n",
       "       'gill-color_buff', 'gill-color_chocolate', 'gill-color_gray',\n",
       "       'gill-color_green', 'gill-color_orange', 'gill-color_pink',\n",
       "       'gill-color_purple', 'gill-color_red', 'gill-color_white',\n",
       "       'gill-color_yellow', 'stalk-shape_tapering', 'stalk-root_club',\n",
       "       'stalk-root_equal', 'stalk-root_rooted',\n",
       "       'stalk-surface-above-ring_scaly', 'stalk-surface-above-ring_silky',\n",
       "       'stalk-surface-above-ring_smooth', 'stalk-surface-below-ring_scaly',\n",
       "       'stalk-surface-below-ring_silky', 'stalk-surface-below-ring_smooth',\n",
       "       'stalk-color-above-ring_buff', 'stalk-color-above-ring_cinnamon',\n",
       "       'stalk-color-above-ring_gray', 'stalk-color-above-ring_orange',\n",
       "       'stalk-color-above-ring_pink', 'stalk-color-above-ring_red',\n",
       "       'stalk-color-above-ring_white', 'stalk-color-above-ring_yellow',\n",
       "       'stalk-color-below-ring_buff', 'stalk-color-below-ring_cinnamon',\n",
       "       'stalk-color-below-ring_gray', 'stalk-color-below-ring_orange',\n",
       "       'stalk-color-below-ring_pink', 'stalk-color-below-ring_red',\n",
       "       'stalk-color-below-ring_white', 'stalk-color-below-ring_yellow',\n",
       "       'veil-color_orange', 'veil-color_white', 'veil-color_yellow',\n",
       "       'ring-number_one', 'ring-number_two', 'ring-type_flaring',\n",
       "       'ring-type_large', 'ring-type_none', 'ring-type_pendant',\n",
       "       'spore-print-color_brown', 'spore-print-color_buff',\n",
       "       'spore-print-color_chocolate', 'spore-print-color_green',\n",
       "       'spore-print-color_orange', 'spore-print-color_purple',\n",
       "       'spore-print-color_white', 'spore-print-color_yellow',\n",
       "       'population_clustered', 'population_numerous', 'population_scattered',\n",
       "       'population_several', 'population_solitary', 'habitat_leaves',\n",
       "       'habitat_meadows', 'habitat_paths', 'habitat_urban', 'habitat_waste',\n",
       "       'habitat_woods', 'stalk-root-missing_1'],\n",
       "      dtype='object')"
      ]
     },
     "execution_count": 138,
     "metadata": {},
     "output_type": "execute_result"
    }
   ],
   "source": [
    "X_train.columns"
   ]
  },
  {
   "cell_type": "code",
   "execution_count": 139,
   "metadata": {},
   "outputs": [
    {
     "data": {
      "text/plain": [
       "(6093, 95)"
      ]
     },
     "execution_count": 139,
     "metadata": {},
     "output_type": "execute_result"
    }
   ],
   "source": [
    "X_train.shape"
   ]
  },
  {
   "cell_type": "markdown",
   "metadata": {},
   "source": [
    "***Decision Tree***"
   ]
  },
  {
   "cell_type": "code",
   "execution_count": 140,
   "metadata": {},
   "outputs": [],
   "source": [
    "dt = DecisionTreeClassifier()\n",
    "dtree = dt.fit(X_train, y_train)"
   ]
  },
  {
   "cell_type": "code",
   "execution_count": 141,
   "metadata": {},
   "outputs": [
    {
     "data": {
      "image/png": "[encoded data removed]",
      "text/plain": [
       "<Figure size 432x288 with 1 Axes>"
      ]
     },
     "metadata": {
      "needs_background": "light"
     },
     "output_type": "display_data"
    }
   ],
   "source": [
    "plot_tree(dt);"
   ]
  },
  {
   "cell_type": "code",
   "execution_count": 142,
   "metadata": {},
   "outputs": [
    {
     "data": {
      "text/plain": [
       "1.0"
      ]
     },
     "execution_count": 142,
     "metadata": {},
     "output_type": "execute_result"
    }
   ],
   "source": [
    "dt.score(X, y)"
   ]
  },
  {
   "cell_type": "markdown",
   "metadata": {},
   "source": [
    "**Bagging**"
   ]
  },
  {
   "cell_type": "code",
   "execution_count": 143,
   "metadata": {},
   "outputs": [
    {
     "name": "stderr",
     "output_type": "stream",
     "text": [
      "[Parallel(n_jobs=1)]: Using backend SequentialBackend with 1 concurrent workers.\n",
      "[Parallel(n_jobs=1)]: Done   1 out of   1 | elapsed:    0.8s finished\n"
     ]
    },
    {
     "data": {
      "text/plain": [
       "BaggingClassifier(n_estimators=100, verbose=1)"
      ]
     },
     "execution_count": 143,
     "metadata": {},
     "output_type": "execute_result"
    }
   ],
   "source": [
    "# Instatiate a BaggingRegessor\n",
    "bag = BaggingClassifier(n_estimators=100, verbose=1)\n",
    "bag.fit(X_train, y_train)"
   ]
  },
  {
   "cell_type": "code",
   "execution_count": 144,
   "metadata": {},
   "outputs": [
    {
     "name": "stderr",
     "output_type": "stream",
     "text": [
      "[Parallel(n_jobs=1)]: Using backend SequentialBackend with 1 concurrent workers.\n",
      "[Parallel(n_jobs=1)]: Done   1 out of   1 | elapsed:    0.0s finished\n"
     ]
    },
    {
     "data": {
      "text/plain": [
       "1.0"
      ]
     },
     "execution_count": 144,
     "metadata": {},
     "output_type": "execute_result"
    }
   ],
   "source": [
    "bag.score(X_test, y_test)"
   ]
  },
  {
   "cell_type": "code",
   "execution_count": 145,
   "metadata": {},
   "outputs": [
    {
     "data": {
      "text/plain": [
       "BaggingClassifier(base_estimator=LogisticRegression(), n_estimators=100)"
      ]
     },
     "execution_count": 145,
     "metadata": {},
     "output_type": "execute_result"
    }
   ],
   "source": [
    "# Instatiate a BaggingRegessor\n",
    "bag = BaggingClassifier(base_estimator=LogisticRegression(),n_estimators=100)\n",
    "bag.fit(X_train, y_train)"
   ]
  },
  {
   "cell_type": "code",
   "execution_count": 146,
   "metadata": {},
   "outputs": [
    {
     "data": {
      "image/png": "[encoded data removed]",
      "text/plain": [
       "<Figure size 432x288 with 2 Axes>"
      ]
     },
     "metadata": {
      "needs_background": "light"
     },
     "output_type": "display_data"
    }
   ],
   "source": [
    "fig, ax = plt.subplots()\n",
    "\n",
    "fig.suptitle(\"Bagging Logistic Regression Model\")\n",
    "\n",
    "plot_confusion_matrix(bag, X_train, y_train, ax=ax, cmap=\"plasma\");"
   ]
  },
  {
   "cell_type": "code",
   "execution_count": 147,
   "metadata": {},
   "outputs": [
    {
     "data": {
      "text/plain": [
       "array([0.99917966, 0.99917966, 1.        , 0.99753695, 1.        ])"
      ]
     },
     "execution_count": 147,
     "metadata": {},
     "output_type": "execute_result"
    }
   ],
   "source": [
    "scores = cross_val_score(estimator=bag, X=X_train, y=y_train, cv=5)\n",
    "scores"
   ]
  },
  {
   "cell_type": "code",
   "execution_count": 148,
   "metadata": {},
   "outputs": [
    {
     "data": {
      "text/plain": [
       "0.9991796554552912"
      ]
     },
     "execution_count": 148,
     "metadata": {},
     "output_type": "execute_result"
    }
   ],
   "source": [
    "np.median(scores)"
   ]
  },
  {
   "cell_type": "code",
   "execution_count": 149,
   "metadata": {},
   "outputs": [
    {
     "data": {
      "text/plain": [
       "1.0"
      ]
     },
     "execution_count": 149,
     "metadata": {},
     "output_type": "execute_result"
    }
   ],
   "source": [
    "# Score on test\n",
    "bag.score(X_test, y_test)"
   ]
  },
  {
   "cell_type": "markdown",
   "metadata": {},
   "source": [
    "**Random Forest Classifier**"
   ]
  },
  {
   "cell_type": "code",
   "execution_count": 150,
   "metadata": {},
   "outputs": [
    {
     "data": {
      "text/plain": [
       "RandomForestClassifier(max_features='sqrt', max_samples=0.5)"
      ]
     },
     "execution_count": 150,
     "metadata": {},
     "output_type": "execute_result"
    }
   ],
   "source": [
    "# Instantiate a RandomForestClassifier\n",
    "rfr = RandomForestClassifier(max_features='sqrt', max_samples=0.5)\n",
    "# Fit it\n",
    "rfr.fit(X_train, y_train)"
   ]
  },
  {
   "cell_type": "code",
   "execution_count": 151,
   "metadata": {},
   "outputs": [
    {
     "data": {
      "text/plain": [
       "array([1., 1., 1., 1., 1.])"
      ]
     },
     "execution_count": 151,
     "metadata": {},
     "output_type": "execute_result"
    }
   ],
   "source": [
    "# Cross-validation\n",
    "scores = cross_val_score(estimator=rfr, X=X_train, y=y_train, cv=5)\n",
    "scores"
   ]
  },
  {
   "cell_type": "code",
   "execution_count": 152,
   "metadata": {},
   "outputs": [
    {
     "data": {
      "image/png": "[encoded data removed]",
      "text/plain": [
       "<Figure size 432x288 with 2 Axes>"
      ]
     },
     "metadata": {
      "needs_background": "light"
     },
     "output_type": "display_data"
    }
   ],
   "source": [
    "fig, ax = plt.subplots()\n",
    "\n",
    "fig.suptitle(\"Random Forrest Classifier Model\")\n",
    "\n",
    "plot_confusion_matrix(rfr, X_train, y_train, ax=ax, cmap=\"plasma\");"
   ]
  },
  {
   "cell_type": "code",
   "execution_count": 153,
   "metadata": {},
   "outputs": [
    {
     "data": {
      "text/plain": [
       "1.0"
      ]
     },
     "execution_count": 153,
     "metadata": {},
     "output_type": "execute_result"
    }
   ],
   "source": [
    "np.median(scores)"
   ]
  },
  {
   "cell_type": "code",
   "execution_count": 154,
   "metadata": {},
   "outputs": [
    {
     "data": {
      "text/plain": [
       "1.0"
      ]
     },
     "execution_count": 154,
     "metadata": {},
     "output_type": "execute_result"
    }
   ],
   "source": [
    "# Score on test\n",
    "score = rfr.score(X_test, y_test)\n",
    "score"
   ]
  },
  {
   "cell_type": "code",
   "execution_count": 155,
   "metadata": {
    "collapsed": true
   },
   "outputs": [
    {
     "data": {
      "text/plain": [
       "Index(['cap-shape_conical', 'cap-shape_convex', 'cap-shape_flat',\n",
       "       'cap-shape_knobbed', 'cap-shape_sunken', 'cap-surface_grooves',\n",
       "       'cap-surface_scaly', 'cap-surface_smooth', 'cap-color_buff',\n",
       "       'cap-color_cinnamon', 'cap-color_gray', 'cap-color_green',\n",
       "       'cap-color_pink', 'cap-color_purple', 'cap-color_red',\n",
       "       'cap-color_white', 'cap-color_yellow', 'bruises_True', 'odor_anise',\n",
       "       'odor_creosote', 'odor_fishy', 'odor_foul', 'odor_musty', 'odor_none',\n",
       "       'odor_pungent', 'odor_spicy', 'gill-attachment_free',\n",
       "       'gill-spacing_crowded', 'gill-size_narrow', 'gill-color_brown',\n",
       "       'gill-color_buff', 'gill-color_chocolate', 'gill-color_gray',\n",
       "       'gill-color_green', 'gill-color_orange', 'gill-color_pink',\n",
       "       'gill-color_purple', 'gill-color_red', 'gill-color_white',\n",
       "       'gill-color_yellow', 'stalk-shape_tapering', 'stalk-root_club',\n",
       "       'stalk-root_equal', 'stalk-root_rooted',\n",
       "       'stalk-surface-above-ring_scaly', 'stalk-surface-above-ring_silky',\n",
       "       'stalk-surface-above-ring_smooth', 'stalk-surface-below-ring_scaly',\n",
       "       'stalk-surface-below-ring_silky', 'stalk-surface-below-ring_smooth',\n",
       "       'stalk-color-above-ring_buff', 'stalk-color-above-ring_cinnamon',\n",
       "       'stalk-color-above-ring_gray', 'stalk-color-above-ring_orange',\n",
       "       'stalk-color-above-ring_pink', 'stalk-color-above-ring_red',\n",
       "       'stalk-color-above-ring_white', 'stalk-color-above-ring_yellow',\n",
       "       'stalk-color-below-ring_buff', 'stalk-color-below-ring_cinnamon',\n",
       "       'stalk-color-below-ring_gray', 'stalk-color-below-ring_orange',\n",
       "       'stalk-color-below-ring_pink', 'stalk-color-below-ring_red',\n",
       "       'stalk-color-below-ring_white', 'stalk-color-below-ring_yellow',\n",
       "       'veil-color_orange', 'veil-color_white', 'veil-color_yellow',\n",
       "       'ring-number_one', 'ring-number_two', 'ring-type_flaring',\n",
       "       'ring-type_large', 'ring-type_none', 'ring-type_pendant',\n",
       "       'spore-print-color_brown', 'spore-print-color_buff',\n",
       "       'spore-print-color_chocolate', 'spore-print-color_green',\n",
       "       'spore-print-color_orange', 'spore-print-color_purple',\n",
       "       'spore-print-color_white', 'spore-print-color_yellow',\n",
       "       'population_clustered', 'population_numerous', 'population_scattered',\n",
       "       'population_several', 'population_solitary', 'habitat_leaves',\n",
       "       'habitat_meadows', 'habitat_paths', 'habitat_urban', 'habitat_waste',\n",
       "       'habitat_woods', 'stalk-root-missing_1'],\n",
       "      dtype='object')"
      ]
     },
     "execution_count": 155,
     "metadata": {},
     "output_type": "execute_result"
    }
   ],
   "source": [
    "X_test.columns"
   ]
  },
  {
   "cell_type": "code",
   "execution_count": 156,
   "metadata": {
    "scrolled": true
   },
   "outputs": [
    {
     "data": {
      "text/plain": [
       "{'cap-shape_conical': 0.00011699762336924902,\n",
       " 'cap-shape_convex': 0.0016577064110086949,\n",
       " 'cap-shape_flat': 0.0010890536892033858,\n",
       " 'cap-shape_knobbed': 0.0002217750379468443,\n",
       " 'cap-shape_sunken': 0.0006521890787091459,\n",
       " 'cap-surface_grooves': 0.00035477179868090015,\n",
       " 'cap-surface_scaly': 0.002692189733722797,\n",
       " 'cap-surface_smooth': 0.008243333811273396,\n",
       " 'cap-color_buff': 0.002678715132369618,\n",
       " 'cap-color_cinnamon': 0.00018784399995359655,\n",
       " 'cap-color_gray': 0.0018823315010040608,\n",
       " 'cap-color_green': 0.00026445220251834734,\n",
       " 'cap-color_pink': 0.0027078498763428343,\n",
       " 'cap-color_purple': 0.00022124327985061884,\n",
       " 'cap-color_red': 0.0016165499916489347,\n",
       " 'cap-color_white': 0.004764626164612989,\n",
       " 'cap-color_yellow': 0.0066904883512502854,\n",
       " 'bruises_True': 0.03916824514148161,\n",
       " 'odor_anise': 0.005772312921641574,\n",
       " 'odor_creosote': 0.0172572138287751,\n",
       " 'odor_fishy': 0.005513803316248837,\n",
       " 'odor_foul': 0.07892964179329914,\n",
       " 'odor_musty': 0.0002991950174734338,\n",
       " 'odor_none': 0.1400129796017792,\n",
       " 'odor_pungent': 0.01827687285955723,\n",
       " 'odor_spicy': 0.008025694274801284,\n",
       " 'gill-attachment_free': 0.002286869654205349,\n",
       " 'gill-spacing_crowded': 0.017522275692492744,\n",
       " 'gill-size_narrow': 0.08446891968472821,\n",
       " 'gill-color_brown': 0.0008993206295059032,\n",
       " 'gill-color_buff': 0.05738604102808181,\n",
       " 'gill-color_chocolate': 0.0009403583675263994,\n",
       " 'gill-color_gray': 0.0012173990925583966,\n",
       " 'gill-color_green': 0.0009437673256736913,\n",
       " 'gill-color_orange': 3.0561505658049714e-05,\n",
       " 'gill-color_pink': 0.0007318363444499508,\n",
       " 'gill-color_purple': 0.0004913845273821372,\n",
       " 'gill-color_red': 0.0001368193572227812,\n",
       " 'gill-color_white': 0.0039504097574817555,\n",
       " 'gill-color_yellow': 0.00036433008997820366,\n",
       " 'stalk-shape_tapering': 0.015839562270410265,\n",
       " 'stalk-root_club': 0.010832977350012284,\n",
       " 'stalk-root_equal': 0.013927674008717379,\n",
       " 'stalk-root_rooted': 0.0017099736837845204,\n",
       " 'stalk-surface-above-ring_scaly': 0.00013844031352902851,\n",
       " 'stalk-surface-above-ring_silky': 0.0621954396968553,\n",
       " 'stalk-surface-above-ring_smooth': 0.02132123314414097,\n",
       " 'stalk-surface-below-ring_scaly': 0.00227952215576239,\n",
       " 'stalk-surface-below-ring_silky': 0.04262004853156172,\n",
       " 'stalk-surface-below-ring_smooth': 0.01289000950060199,\n",
       " 'stalk-color-above-ring_buff': 0.0009665687931949201,\n",
       " 'stalk-color-above-ring_cinnamon': 0.0010163800452775667,\n",
       " 'stalk-color-above-ring_gray': 0.002360726194579178,\n",
       " 'stalk-color-above-ring_orange': 0.00010228926687606818,\n",
       " 'stalk-color-above-ring_pink': 0.0006266833163774097,\n",
       " 'stalk-color-above-ring_red': 0.0007479177157073587,\n",
       " 'stalk-color-above-ring_white': 0.00469592371933028,\n",
       " 'stalk-color-above-ring_yellow': 0.000172464966406876,\n",
       " 'stalk-color-below-ring_buff': 0.0011344655693349746,\n",
       " 'stalk-color-below-ring_cinnamon': 0.0007538065036367354,\n",
       " 'stalk-color-below-ring_gray': 0.0012783801163355668,\n",
       " 'stalk-color-below-ring_orange': 8.289590342284112e-05,\n",
       " 'stalk-color-below-ring_pink': 0.0034673028627688197,\n",
       " 'stalk-color-below-ring_red': 3.902768475670228e-06,\n",
       " 'stalk-color-below-ring_white': 0.0051344021066680266,\n",
       " 'stalk-color-below-ring_yellow': 0.001017468950807051,\n",
       " 'veil-color_orange': 0.0003694047777409365,\n",
       " 'veil-color_white': 0.0014222505630924948,\n",
       " 'veil-color_yellow': 0.00033014287602622927,\n",
       " 'ring-number_one': 0.00875781522042563,\n",
       " 'ring-number_two': 0.009436861633415181,\n",
       " 'ring-type_flaring': 0.0018518397699789052,\n",
       " 'ring-type_large': 0.01557122939288703,\n",
       " 'ring-type_none': 0.0014881935371499426,\n",
       " 'ring-type_pendant': 0.04047854407310483,\n",
       " 'spore-print-color_brown': 0.011906507443039522,\n",
       " 'spore-print-color_buff': 0.0,\n",
       " 'spore-print-color_chocolate': 0.04027375349331121,\n",
       " 'spore-print-color_green': 0.009031580631874063,\n",
       " 'spore-print-color_orange': 0.0,\n",
       " 'spore-print-color_purple': 0.002065480375451947,\n",
       " 'spore-print-color_white': 0.022569542607821416,\n",
       " 'spore-print-color_yellow': 0.0,\n",
       " 'population_clustered': 0.00188196189436688,\n",
       " 'population_numerous': 0.002749762643212958,\n",
       " 'population_scattered': 0.005864755226183718,\n",
       " 'population_several': 0.03809267434890383,\n",
       " 'population_solitary': 0.004954510496062485,\n",
       " 'habitat_leaves': 0.0023831961520554374,\n",
       " 'habitat_meadows': 0.003307592631145467,\n",
       " 'habitat_paths': 0.00552649328432458,\n",
       " 'habitat_urban': 0.008093880330085507,\n",
       " 'habitat_waste': 0.0018838906736053367,\n",
       " 'habitat_woods': 0.014041235193785959,\n",
       " 'stalk-root-missing_1': 0.017682071780904814}"
      ]
     },
     "execution_count": 156,
     "metadata": {},
     "output_type": "execute_result"
    }
   ],
   "source": [
    "feat_import = {name: score \n",
    "                   for name, score \n",
    "                       in zip(X_test.columns, rfr.feature_importances_)\n",
    "}\n",
    "feat_import"
   ]
  },
  {
   "cell_type": "code",
   "execution_count": 174,
   "metadata": {
    "scrolled": true
   },
   "outputs": [
    {
     "data": {
      "text/plain": [
       "{'spore-print-color_buff': 0.0,\n",
       " 'spore-print-color_orange': 0.0,\n",
       " 'spore-print-color_yellow': 0.0,\n",
       " 'stalk-color-below-ring_red': 3.902768475670228e-06,\n",
       " 'gill-color_orange': 3.0561505658049714e-05,\n",
       " 'stalk-color-below-ring_orange': 8.289590342284112e-05,\n",
       " 'stalk-color-above-ring_orange': 0.00010228926687606818,\n",
       " 'cap-shape_conical': 0.00011699762336924902,\n",
       " 'gill-color_red': 0.0001368193572227812,\n",
       " 'stalk-surface-above-ring_scaly': 0.00013844031352902851,\n",
       " 'stalk-color-above-ring_yellow': 0.000172464966406876,\n",
       " 'cap-color_cinnamon': 0.00018784399995359655,\n",
       " 'cap-color_purple': 0.00022124327985061884,\n",
       " 'cap-shape_knobbed': 0.0002217750379468443,\n",
       " 'cap-color_green': 0.00026445220251834734,\n",
       " 'odor_musty': 0.0002991950174734338,\n",
       " 'veil-color_yellow': 0.00033014287602622927,\n",
       " 'cap-surface_grooves': 0.00035477179868090015,\n",
       " 'gill-color_yellow': 0.00036433008997820366,\n",
       " 'veil-color_orange': 0.0003694047777409365,\n",
       " 'gill-color_purple': 0.0004913845273821372,\n",
       " 'stalk-color-above-ring_pink': 0.0006266833163774097,\n",
       " 'cap-shape_sunken': 0.0006521890787091459,\n",
       " 'gill-color_pink': 0.0007318363444499508,\n",
       " 'stalk-color-above-ring_red': 0.0007479177157073587,\n",
       " 'stalk-color-below-ring_cinnamon': 0.0007538065036367354,\n",
       " 'gill-color_brown': 0.0008993206295059032,\n",
       " 'gill-color_chocolate': 0.0009403583675263994,\n",
       " 'gill-color_green': 0.0009437673256736913,\n",
       " 'stalk-color-above-ring_buff': 0.0009665687931949201,\n",
       " 'stalk-color-above-ring_cinnamon': 0.0010163800452775667,\n",
       " 'stalk-color-below-ring_yellow': 0.001017468950807051,\n",
       " 'cap-shape_flat': 0.0010890536892033858,\n",
       " 'stalk-color-below-ring_buff': 0.0011344655693349746,\n",
       " 'gill-color_gray': 0.0012173990925583966,\n",
       " 'stalk-color-below-ring_gray': 0.0012783801163355668,\n",
       " 'veil-color_white': 0.0014222505630924948,\n",
       " 'ring-type_none': 0.0014881935371499426,\n",
       " 'cap-color_red': 0.0016165499916489347,\n",
       " 'cap-shape_convex': 0.0016577064110086949,\n",
       " 'stalk-root_rooted': 0.0017099736837845204,\n",
       " 'ring-type_flaring': 0.0018518397699789052,\n",
       " 'population_clustered': 0.00188196189436688,\n",
       " 'cap-color_gray': 0.0018823315010040608,\n",
       " 'habitat_waste': 0.0018838906736053367,\n",
       " 'spore-print-color_purple': 0.002065480375451947,\n",
       " 'stalk-surface-below-ring_scaly': 0.00227952215576239,\n",
       " 'gill-attachment_free': 0.002286869654205349,\n",
       " 'stalk-color-above-ring_gray': 0.002360726194579178,\n",
       " 'habitat_leaves': 0.0023831961520554374,\n",
       " 'cap-color_buff': 0.002678715132369618,\n",
       " 'cap-surface_scaly': 0.002692189733722797,\n",
       " 'cap-color_pink': 0.0027078498763428343,\n",
       " 'population_numerous': 0.002749762643212958,\n",
       " 'habitat_meadows': 0.003307592631145467,\n",
       " 'stalk-color-below-ring_pink': 0.0034673028627688197,\n",
       " 'gill-color_white': 0.0039504097574817555,\n",
       " 'stalk-color-above-ring_white': 0.00469592371933028,\n",
       " 'cap-color_white': 0.004764626164612989,\n",
       " 'population_solitary': 0.004954510496062485,\n",
       " 'stalk-color-below-ring_white': 0.0051344021066680266,\n",
       " 'odor_fishy': 0.005513803316248837,\n",
       " 'habitat_paths': 0.00552649328432458,\n",
       " 'odor_anise': 0.005772312921641574,\n",
       " 'population_scattered': 0.005864755226183718,\n",
       " 'cap-color_yellow': 0.0066904883512502854,\n",
       " 'odor_spicy': 0.008025694274801284,\n",
       " 'habitat_urban': 0.008093880330085507,\n",
       " 'cap-surface_smooth': 0.008243333811273396,\n",
       " 'ring-number_one': 0.00875781522042563,\n",
       " 'spore-print-color_green': 0.009031580631874063,\n",
       " 'ring-number_two': 0.009436861633415181,\n",
       " 'stalk-root_club': 0.010832977350012284,\n",
       " 'spore-print-color_brown': 0.011906507443039522,\n",
       " 'stalk-surface-below-ring_smooth': 0.01289000950060199,\n",
       " 'stalk-root_equal': 0.013927674008717379,\n",
       " 'habitat_woods': 0.014041235193785959,\n",
       " 'ring-type_large': 0.01557122939288703,\n",
       " 'stalk-shape_tapering': 0.015839562270410265,\n",
       " 'odor_creosote': 0.0172572138287751,\n",
       " 'gill-spacing_crowded': 0.017522275692492744,\n",
       " 'stalk-root-missing_1': 0.017682071780904814,\n",
       " 'odor_pungent': 0.01827687285955723,\n",
       " 'stalk-surface-above-ring_smooth': 0.02132123314414097,\n",
       " 'spore-print-color_white': 0.022569542607821416,\n",
       " 'population_several': 0.03809267434890383,\n",
       " 'bruises_True': 0.03916824514148161,\n",
       " 'spore-print-color_chocolate': 0.04027375349331121,\n",
       " 'ring-type_pendant': 0.04047854407310483,\n",
       " 'stalk-surface-below-ring_silky': 0.04262004853156172,\n",
       " 'gill-color_buff': 0.05738604102808181,\n",
       " 'stalk-surface-above-ring_silky': 0.0621954396968553,\n",
       " 'odor_foul': 0.07892964179329914,\n",
       " 'gill-size_narrow': 0.08446891968472821,\n",
       " 'odor_none': 0.1400129796017792}"
      ]
     },
     "execution_count": 174,
     "metadata": {},
     "output_type": "execute_result"
    }
   ],
   "source": [
    "{k: v for k, v in sorted(feat_import.items(), key=lambda item: item[1])}"
   ]
  },
  {
   "cell_type": "code",
   "execution_count": 175,
   "metadata": {},
   "outputs": [
    {
     "data": {
      "image/png": "[encoded data removed]",
      "text/plain": [
       "<Figure size 432x288 with 1 Axes>"
      ]
     },
     "metadata": {
      "needs_background": "light"
     },
     "output_type": "display_data"
    }
   ],
   "source": [
    "importances = rfr.feature_importances_\n",
    "std = np.std([rfr.feature_importances_ for tree in rfr.estimators_],\n",
    "             axis=0)\n",
    "indices = np.argsort(importances)\n",
    "# Plot the feature importances of the forest\n",
    "plt.figure()\n",
    "plt.title(\"Feature importances\")\n",
    "plt.barh(range(X.shape[1]), importances[indices],\n",
    "       color=\"r\", xerr=std[indices], align=\"center\")\n",
    "plt.yticks(range(X.shape[1]), indices)\n",
    "plt.ylim([-1, X.shape[1]])\n",
    "plt.tight_layout()\n",
    "plt.savefig('Mushroom_Class/Data-Visualizations/Feature_Importances.png')\n",
    "plt.show()"
   ]
  },
  {
   "cell_type": "markdown",
   "metadata": {},
   "source": [
    "***Logistic Regression***"
   ]
  },
  {
   "cell_type": "code",
   "execution_count": 157,
   "metadata": {},
   "outputs": [
    {
     "data": {
      "text/plain": [
       "LogisticRegression(random_state=2021)"
      ]
     },
     "execution_count": 157,
     "metadata": {},
     "output_type": "execute_result"
    }
   ],
   "source": [
    "logreg_model = LogisticRegression(random_state=2021)\n",
    "logreg_model.fit(X_train, y_train)"
   ]
  },
  {
   "cell_type": "code",
   "execution_count": 158,
   "metadata": {},
   "outputs": [
    {
     "data": {
      "image/png": "[encoded data removed]",
      "text/plain": [
       "<Figure size 432x288 with 2 Axes>"
      ]
     },
     "metadata": {
      "needs_background": "light"
     },
     "output_type": "display_data"
    }
   ],
   "source": [
    "fig, ax = plt.subplots()\n",
    "\n",
    "fig.suptitle(\"Logistic Regression Model\")\n",
    "\n",
    "plot_confusion_matrix(logreg_model, X_train, y_train, ax=ax, cmap=\"plasma\");"
   ]
  },
  {
   "cell_type": "code",
   "execution_count": 159,
   "metadata": {},
   "outputs": [
    {
     "data": {
      "text/plain": [
       "LogisticRegression(max_iter=1000, random_state=2021)"
      ]
     },
     "execution_count": 159,
     "metadata": {},
     "output_type": "execute_result"
    }
   ],
   "source": [
    "logreg_model_more_iterations = LogisticRegression(random_state=2021, max_iter=1000)\n",
    "logreg_model_more_iterations.fit(X_train, y_train)"
   ]
  },
  {
   "cell_type": "code",
   "execution_count": 160,
   "metadata": {},
   "outputs": [
    {
     "data": {
      "text/plain": [
       "array([1., 1., 1., 1., 1.])"
      ]
     },
     "execution_count": 160,
     "metadata": {},
     "output_type": "execute_result"
    }
   ],
   "source": [
    "# Cross-validation\n",
    "iter_scores = cross_val_score(estimator=logreg_model_more_iterations, X=X_train, y=y_train, cv=5)\n",
    "scores"
   ]
  },
  {
   "cell_type": "code",
   "execution_count": 161,
   "metadata": {},
   "outputs": [
    {
     "name": "stdout",
     "output_type": "stream",
     "text": [
      "Test Accuracy score:  1.0\n"
     ]
    }
   ],
   "source": [
    "#use the fitted model to predict on the test data\n",
    "logreg_model_more_iterations_pred = logreg_model_more_iterations.predict(X_test)\n",
    "# checking Accuracy on the test data\n",
    "print('Test Accuracy score: ', accuracy_score(y_test, logreg_model_more_iterations_pred))\n",
    "# checking Recall on the test data\n",
    "#print('Test Recall score: ', recall_score(y_test, logreg_model_more_iterations_pred))"
   ]
  },
  {
   "cell_type": "code",
   "execution_count": 162,
   "metadata": {},
   "outputs": [
    {
     "data": {
      "text/plain": [
       "LogisticRegression(C=0.01, random_state=2021)"
      ]
     },
     "execution_count": 162,
     "metadata": {},
     "output_type": "execute_result"
    }
   ],
   "source": [
    "logreg_model_more_regularization = LogisticRegression(random_state=2021, C=0.01)\n",
    "logreg_model_more_regularization.fit(X_train, y_train)"
   ]
  },
  {
   "cell_type": "code",
   "execution_count": 163,
   "metadata": {},
   "outputs": [
    {
     "data": {
      "text/plain": [
       "array([1., 1., 1., 1., 1.])"
      ]
     },
     "execution_count": 163,
     "metadata": {},
     "output_type": "execute_result"
    }
   ],
   "source": [
    "# Cross-validation\n",
    "reg_scores = cross_val_score(estimator=logreg_model_more_regularization, X=X_train, y=y_train, cv=5)\n",
    "scores"
   ]
  },
  {
   "cell_type": "code",
   "execution_count": 164,
   "metadata": {},
   "outputs": [
    {
     "data": {
      "text/plain": [
       "LogisticRegression(random_state=2021, tol=50)"
      ]
     },
     "execution_count": 164,
     "metadata": {},
     "output_type": "execute_result"
    }
   ],
   "source": [
    "logreg_model_higher_tolerance = LogisticRegression(random_state=2021, tol=50)\n",
    "logreg_model_higher_tolerance.fit(X_train, y_train)"
   ]
  },
  {
   "cell_type": "code",
   "execution_count": 165,
   "metadata": {},
   "outputs": [
    {
     "data": {
      "text/plain": [
       "array([1., 1., 1., 1., 1.])"
      ]
     },
     "execution_count": 165,
     "metadata": {},
     "output_type": "execute_result"
    }
   ],
   "source": [
    "# Cross-validation\n",
    "tol_scores = cross_val_score(estimator=logreg_model_higher_tolerance, X=X_train, y=y_train, cv=5)\n",
    "scores"
   ]
  },
  {
   "cell_type": "code",
   "execution_count": 176,
   "metadata": {},
   "outputs": [
    {
     "data": {
      "image/png": "[encoded data removed]",
      "text/plain": [
       "<Figure size 1080x432 with 6 Axes>"
      ]
     },
     "metadata": {
      "needs_background": "light"
     },
     "output_type": "display_data"
    }
   ],
   "source": [
    "fix, axes = plt.subplots(nrows=1, ncols=3, figsize=(15, 6))\n",
    "\n",
    "axes[0].set_title(\"More Iterations\")\n",
    "axes[1].set_title(\"More Regularization\")\n",
    "axes[2].set_title(\"Higher Tolerance\")\n",
    "\n",
    "plot_confusion_matrix(logreg_model_more_iterations, X_train, y_train,\n",
    "                      ax=axes[0], cmap=\"plasma\")\n",
    "plot_confusion_matrix(logreg_model_more_regularization, X_train, y_train,\n",
    "                      ax=axes[1], cmap=\"plasma\")\n",
    "plot_confusion_matrix(logreg_model_higher_tolerance, X_train, y_train,\n",
    "                      ax=axes[2], cmap=\"plasma\");\n",
    "plt.tight_layout()\n",
    "plt.savefig('Mushroom_Class/Data-Visualizations/Model_Confusion_Matrices.png')"
   ]
  },
  {
   "cell_type": "code",
   "execution_count": null,
   "metadata": {},
   "outputs": [],
   "source": []
  }
 ],
 "metadata": {
  "kernelspec": {
   "display_name": "learn-env",
   "language": "python",
   "name": "learn-env"
  },
  "language_info": {
   "codemirror_mode": {
    "name": "ipython",
    "version": 3
   },
   "file_extension": ".py",
   "mimetype": "text/x-python",
   "name": "python",
   "nbconvert_exporter": "python",
   "pygments_lexer": "ipython3",
   "version": "3.8.5"
  }
 },
 "nbformat": 4,
 "nbformat_minor": 4
}
